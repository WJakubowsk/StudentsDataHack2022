{
 "cells": [
  {
   "cell_type": "markdown",
   "metadata": {},
   "source": [
    "# Preprocessing i modelowanie"
   ]
  },
  {
   "cell_type": "code",
   "execution_count": 1,
   "metadata": {
    "cell_id": "194c3508-9887-43dd-abfe-f561ed362601",
    "deepnote_cell_height": 535.1875,
    "deepnote_cell_type": "code",
    "deepnote_output_heights": [
     150.1875
    ]
   },
   "outputs": [
    {
     "ename": "ModuleNotFoundError",
     "evalue": "No module named 'preprocessing.preprocessing'",
     "output_type": "error",
     "traceback": [
      "\u001b[1;31m---------------------------------------------------------------------------\u001b[0m",
      "\u001b[1;31mModuleNotFoundError\u001b[0m                       Traceback (most recent call last)",
      "\u001b[1;32m<ipython-input-1-37772a9b3a33>\u001b[0m in \u001b[0;36m<module>\u001b[1;34m\u001b[0m\n\u001b[0;32m      6\u001b[0m \u001b[1;33m\u001b[0m\u001b[0m\n\u001b[0;32m      7\u001b[0m \u001b[1;32mfrom\u001b[0m \u001b[0msklearn\u001b[0m\u001b[1;33m.\u001b[0m\u001b[0mmodel_selection\u001b[0m \u001b[1;32mimport\u001b[0m \u001b[0mtrain_test_split\u001b[0m\u001b[1;33m\u001b[0m\u001b[1;33m\u001b[0m\u001b[0m\n\u001b[1;32m----> 8\u001b[1;33m \u001b[1;32mfrom\u001b[0m \u001b[0mpreprocessing\u001b[0m\u001b[1;33m.\u001b[0m\u001b[0mpreprocessing\u001b[0m \u001b[1;32mimport\u001b[0m \u001b[0mpreprocess_data\u001b[0m\u001b[1;33m,\u001b[0m \u001b[0mamenitiesColumns\u001b[0m\u001b[1;33m\u001b[0m\u001b[1;33m\u001b[0m\u001b[0m\n\u001b[0m\u001b[0;32m      9\u001b[0m \u001b[1;32mfrom\u001b[0m \u001b[0mscipy\u001b[0m\u001b[1;33m.\u001b[0m\u001b[0mstats\u001b[0m \u001b[1;32mimport\u001b[0m \u001b[0mskew\u001b[0m\u001b[1;33m\u001b[0m\u001b[1;33m\u001b[0m\u001b[0m\n\u001b[0;32m     10\u001b[0m \u001b[1;33m\u001b[0m\u001b[0m\n",
      "\u001b[1;31mModuleNotFoundError\u001b[0m: No module named 'preprocessing.preprocessing'"
     ]
    }
   ],
   "source": [
    "import pandas as pd\n",
    "import numpy as np\n",
    "import matplotlib.pyplot as plt\n",
    "import scipy\n",
    "import sys\n",
    "\n",
    "from sklearn.model_selection import train_test_split\n",
    "from preprocessing.preprocessing import preprocess_data, amenitiesColumns\n",
    "from scipy.stats import skew\n",
    "\n",
    "data = pd.read_csv('data/train.csv')\n",
    "\n",
    "data = data[data.log_price != 0]\n",
    "\n",
    "train_val, test = train_test_split(data, test_size = .2, random_state = 420) # test -> zbiór do finalej walidacji po wybraniu modelu\n",
    "\n",
    "train_val.head(3)"
   ]
  },
  {
   "cell_type": "code",
   "execution_count": null,
   "metadata": {
    "cell_id": "00001-3a37682e-d14f-40c8-b63e-092e0f7b5fb8",
    "deepnote_cell_height": 156,
    "deepnote_cell_type": "code"
   },
   "outputs": [],
   "source": [
    "train, val = train_test_split(train_val, test_size = .2, random_state = 420)\n",
    "\n",
    "y_train = train[['log_price']]\n",
    "X_train = train[train.columns.drop('log_price')]\n",
    "y_val = val[['log_price']]\n",
    "X_val = val[val.columns.drop('log_price')]"
   ]
  },
  {
   "cell_type": "code",
   "execution_count": null,
   "metadata": {
    "cell_id": "00002-f5f97920-19cc-4d93-9487-469bdf780db7",
    "deepnote_cell_height": 194.796875,
    "deepnote_cell_type": "code",
    "scrolled": true
   },
   "outputs": [],
   "source": [
    "X_train = preprocess_data(X_train)\n",
    "X_val = preprocess_data(X_val, test_data = True)"
   ]
  },
  {
   "cell_type": "code",
   "execution_count": null,
   "metadata": {
    "cell_id": "00003-5f7f4efd-4b23-40bb-9cd7-e64985bcd344",
    "deepnote_cell_height": 118.1875,
    "deepnote_cell_type": "code",
    "deepnote_output_heights": [
     21.1875
    ]
   },
   "outputs": [],
   "source": [
    "X_train[0].shape"
   ]
  },
  {
   "cell_type": "code",
   "execution_count": null,
   "metadata": {
    "cell_id": "00004-dc5dcca1-554e-49d5-ac8c-db981c5fc8a3",
    "deepnote_cell_height": 3930,
    "deepnote_cell_type": "code"
   },
   "outputs": [],
   "source": [
    "from catboost import CatBoostRegressor\n",
    "cb = CatBoostRegressor(verbose = 0)\n",
    "cb.fit(X_train, y_train)\n",
    "pred = cb.predict(X_val)"
   ]
  },
  {
   "cell_type": "code",
   "execution_count": null,
   "metadata": {
    "cell_id": "00005-0f760b3b-8bfe-45cf-a81c-199dc9b8ab4f",
    "deepnote_cell_height": 66,
    "deepnote_cell_type": "code"
   },
   "outputs": [],
   "source": [
    "feat_imp = cb.get_feature_importance()"
   ]
  },
  {
   "cell_type": "code",
   "execution_count": null,
   "metadata": {
    "cell_id": "00006-c80eceb7-211a-4dcc-8164-5342d68b1132",
    "deepnote_cell_height": 312,
    "deepnote_cell_type": "code"
   },
   "outputs": [],
   "source": [
    "a = ['24_hour_check_in', '_smooth_pathway_to_front_door', 'accessible_height_bed', 'accessible_height_toilet', \n",
    "     'accommodates', 'air_conditioning', 'air_purifier', 'baby_bath', 'baby_monitor', 'babysitter_recommendations', \n",
    "     'bathrooms', 'bathtub', 'bathtub_with_shower_chair', 'bbq_grill', 'beach_essentials', 'beachfront', 'bed_linens', \n",
    "     'bed_type', 'bedrooms', 'beds', 'breakfast', 'buzzer_wireless_intercom', 'cable_tv', 'cancellation_policy', \n",
    "     'carbon_monoxide_detector', 'cat_s_', 'changing_table', 'children’s_books_and_toys', 'children’s_dinnerware', \n",
    "     'city', 'cleaning_before_checkout', 'cleaning_fee', 'coffee_maker', 'cooking_basics', 'crib', 'disabled_parking_spot', \n",
    "     'dishes_and_silverware', 'dishwasher', 'dog_s_', 'doorman', 'doorman_entry', 'dryer', 'elevator', 'elevator_in_building', \n",
    "     'essentials', 'ethernet_connection', 'ev_charger', 'extra_pillows_and_blankets', 'family_kid_friendly', \n",
    "     'fire_extinguisher', 'fireplace_guards', 'firm_mattress', 'first_aid_kit', 'first_review_month', 'first_review_year', \n",
    "     'fixed_grab_bars_for_shower___toilet', 'flat', 'flat_smooth_pathway_to_front_door', 'free_parking_on_premises', \n",
    "     'free_parking_on_street', 'game_console', 'garden_or_backyard', 'grab_rails_for_shower_and_toilet', \n",
    "     'ground_floor_access', 'gym', 'hair_dryer', 'handheld_shower_head', 'hangers', 'heating', 'high_chair', \n",
    "     'host_greets_you', 'host_has_profile_pic', 'host_identity_verified', 'host_response_rate', 'host_since_month', \n",
    "     'host_since_year', 'hot_tub', 'hot_water', 'hot_water_kettle', 'indoor_fireplace', 'instant_bookable', 'internet',\n",
    "     'iron', 'keypad', 'kitchen', 'lake_access', 'laptop_friendly_workspace', 'last_review_month', 'last_review_year', \n",
    "     'latitude', 'lock_on_bedroom_door', 'lockbox', 'long_term_stays_allowed', 'longitude', 'luggage_dropoff_allowed', \n",
    "     'microwave', 'number_of_reviews', 'other', 'other_pet_s_', 'outlet_covers', 'oven', 'pack_’n_play_travel_crib',\n",
    "     'paid_parking_off_premises', 'path_to_entrance_lit_at_night', 'patio_or_balcony', 'pets_allowed', \n",
    "     'pets_live_on_this_property', 'pocket_wifi', 'pool', 'private_bathroom', 'private_entrance', 'private_living_room', \n",
    "     'property_type', 'refrigerator', 'review_scores_rating', 'roll_in_shower_with_chair', 'room_darkening_shades', \n",
    "     'room_type', 'safety_card', 'self_check_in', 'shampoo', 'single_level_home', 'ski_in_ski_out', 'smart_lock', \n",
    "     'smartlock', 'smoke_detector', 'smoking_allowed', 'stair_gates', 'step_free_access', 'stove', 'suitable_for_events', \n",
    "     'table_corner_guards', 'translation_missing__en_hosting_amenity_49', 'translation_missing__en_hosting_amenity_50', \n",
    "     'tv', 'washer', 'washer___dryer', 'waterfront', 'well_lit_path_to_entrance', 'wheelchair_accessible', \n",
    "     'wide_clearance_to_bed', 'wide_clearance_to_shower___toilet', 'wide_clearance_to_shower_and_toilet', 'wide_doorway',\n",
    "     'wide_entryway', 'wide_hallway_clearance', 'window_guards', 'wireless_internet'] # lista ze wszystkimi wartościami \n",
    "     # z przekształconej kolumny amenieties\n",
    "\n",
    "\n",
    "b = ['knn__bathrooms', 'knn__beds', 'knn__bedrooms', 'knn__host_response_rate', 'iter__review_scores_rating', \n",
    "     'ord_enc__cancellation_policy', 'ord_enc__cleaning_fee', 'ord_enc__host_has_profile_pic', \n",
    "     'ord_enc__host_identity_verified', 'ord_enc__instant_bookable', 'one_hot__x0_Entire home/apt', \n",
    "     'one_hot__x0_Private room', 'one_hot__x0_Shared room', 'one_hot__x1_Airbed', 'one_hot__x1_Couch',\n",
    "     'one_hot__x1_Futon', 'one_hot__x1_Pull-out Sofa', 'one_hot__x1_Real Bed', 'one_hot__x2_Boston', \n",
    "     'one_hot__x2_Chicago', 'one_hot__x2_DC', 'one_hot__x2_LA', 'one_hot__x2_NYC', 'one_hot__x2_SF', \n",
    "     'one_hot__x3_Apartment', 'one_hot__x3_Bed & Breakfast', 'one_hot__x3_Boat', 'one_hot__x3_Boutique hotel', \n",
    "     'one_hot__x3_Bungalow', 'one_hot__x3_Cabin', 'one_hot__x3_Camper/RV', 'one_hot__x3_Casa particular', \n",
    "     'one_hot__x3_Castle', 'one_hot__x3_Cave', 'one_hot__x3_Chalet', 'one_hot__x3_Condominium', 'one_hot__x3_Dorm', \n",
    "     'one_hot__x3_Earth House', 'one_hot__x3_Guest suite', 'one_hot__x3_Guesthouse', 'one_hot__x3_Hostel',\n",
    "     'one_hot__x3_House', 'one_hot__x3_Hut', 'one_hot__x3_In-law', 'one_hot__x3_Island', 'one_hot__x3_Lighthouse',\n",
    "     'one_hot__x3_Loft', 'one_hot__x3_Other', 'one_hot__x3_Parking Space', 'one_hot__x3_Serviced apartment', \n",
    "     'one_hot__x3_Tent', 'one_hot__x3_Timeshare', 'one_hot__x3_Tipi', 'one_hot__x3_Townhouse', 'one_hot__x3_Train',\n",
    "     'one_hot__x3_Treehouse', 'one_hot__x3_Vacation home', 'one_hot__x3_Villa', 'one_hot__x3_Yurt']\n",
    "    # kolumny po preprocessingu (bez kolumn, które nie brały udziału w preprocessingu)\n",
    "    \n",
    "    \n",
    "a_new = [] # lista, która ma przechowywać kolumny, które nie brały udziału w preprocessingu\n",
    "\n",
    "tmp = ['room_type', 'bed_type', 'city', 'property_type', 'bathrooms', 'beds', 'bedrooms', \n",
    "       'host_response_rate', 'review_scores_rating', 'cancellation_policy', 'cleaning_fee', \n",
    "       'host_has_profile_pic', \"host_identity_verified\", 'instant_bookable']\n",
    "        # kolumny, brały udziału w preprocessingu\n",
    "\n",
    "for el in a:\n",
    "    if el not in tmp:\n",
    "        a_new.append(el)\n",
    "print('a: ' + str(len(a)))\n",
    "c = b + a_new\n",
    "print('c: ' + str(len(c)))"
   ]
  },
  {
   "cell_type": "code",
   "execution_count": null,
   "metadata": {
    "cell_id": "00007-22d3557e-fda8-4149-b7f7-07d9a6ecb494",
    "deepnote_cell_height": 66,
    "deepnote_cell_type": "code",
    "scrolled": false
   },
   "outputs": [],
   "source": [
    "X_train = pd.DataFrame(X_train, columns = c)"
   ]
  },
  {
   "cell_type": "code",
   "execution_count": null,
   "metadata": {
    "cell_id": "00008-d690d20e-deb2-4a1a-9012-cd4d1cf26a2c",
    "deepnote_cell_height": 497.1875,
    "deepnote_cell_type": "code",
    "deepnote_output_heights": [
     382.1875
    ]
   },
   "outputs": [],
   "source": [
    "X_val = pd.DataFrame(X_val, columns = c)"
   ]
  },
  {
   "cell_type": "markdown",
   "metadata": {
    "cell_id": "00010-16649047-8642-422f-b7b1-ea62c57bca68",
    "deepnote_cell_height": 110,
    "deepnote_cell_type": "markdown"
   },
   "source": [
    "## Wpływ poszczególnych kolumn na predykcyjność modelu (CatBoost)"
   ]
  },
  {
   "cell_type": "code",
   "execution_count": null,
   "metadata": {
    "cell_id": "00011-0e1a7816-69c5-413f-8ab9-6f43aeab0b97",
    "deepnote_cell_height": 884.015625,
    "deepnote_cell_type": "code",
    "deepnote_output_heights": [
     589.03125
    ]
   },
   "outputs": [],
   "source": [
    "importances = pd.DataFrame(data={\n",
    "    'name': c,\n",
    "    'importance': feat_imp\n",
    "})\n",
    "\n",
    "importances = importances.sort_values(by='importance', ascending=False)\n",
    "\n",
    "plt.figure(figsize=(20,15))\n",
    "plt.barh(y=importances['name'][:20], width=importances['importance'][:20], color='#087E8B')\n",
    "plt.title('Top 10 important features', size=20)\n",
    "plt.xticks(rotation='vertical')\n",
    "plt.show()"
   ]
  },
  {
   "cell_type": "markdown",
   "metadata": {
    "cell_id": "00012-553d7060-222f-4258-9965-17a6c9a5662b",
    "deepnote_cell_height": 110,
    "deepnote_cell_type": "markdown"
   },
   "source": [
    "## Usunięcie kolumn silnie skorelowanych z mniejszą predykcyjnością dla modelu"
   ]
  },
  {
   "cell_type": "code",
   "execution_count": null,
   "metadata": {
    "cell_id": "00013-5e32a372-0273-4a6a-9cce-332f3e5f5cd1",
    "deepnote_cell_height": 336,
    "deepnote_cell_type": "code"
   },
   "outputs": [],
   "source": [
    "corr_matrix = X_train.corr().abs()\n",
    "upper = corr_matrix.where(np.triu(np.ones(corr_matrix.shape), k=1).astype(np.bool))\n",
    "\n",
    "def col_to_drop(dataset, upper):\n",
    "    to_drop = []\n",
    "    for column in upper.columns:\n",
    "        if any(upper[column] > .9):\n",
    "            correlated = upper[upper[column] > .9].index\n",
    "            for col in correlated:\n",
    "                if dataset[dataset['name'] == col]['importance'].values[0] < dataset[dataset['name'] == column]['importance'].values[0]:\n",
    "                    to_drop.append(col)\n",
    "                else:\n",
    "                    to_drop.append(column)\n",
    "    return to_drop\n",
    "\n",
    "to_drop = col_to_drop(importances, upper)"
   ]
  },
  {
   "cell_type": "code",
   "execution_count": null,
   "metadata": {
    "cell_id": "00014-463f3147-4cd5-4494-827f-03124c6a341e",
    "deepnote_cell_height": 84,
    "deepnote_cell_type": "code"
   },
   "outputs": [],
   "source": [
    "X_train.drop(to_drop, axis=1, inplace=True)\n",
    "X_val.drop(to_drop, axis=1, inplace=True)"
   ]
  },
  {
   "cell_type": "code",
   "execution_count": null,
   "metadata": {
    "cell_id": "00015-f5616d02-d630-49fe-b135-c6082d43f8a5",
    "deepnote_cell_height": 118.1875,
    "deepnote_cell_type": "code",
    "deepnote_output_heights": [
     21.1875
    ]
   },
   "outputs": [],
   "source": [
    "X_train.shape"
   ]
  },
  {
   "cell_type": "code",
   "execution_count": null,
   "metadata": {
    "cell_id": "00016-28115fd4-b5e6-4a62-9117-e772255c27b4",
    "deepnote_cell_height": 118.1875,
    "deepnote_cell_type": "code",
    "deepnote_output_heights": [
     21.1875
    ],
    "scrolled": true
   },
   "outputs": [],
   "source": [
    "X_val.shape"
   ]
  },
  {
   "cell_type": "markdown",
   "metadata": {
    "cell_id": "00017-14e99a54-4096-4d74-b27d-16342ca8b6db",
    "deepnote_cell_height": 70,
    "deepnote_cell_type": "markdown"
   },
   "source": [
    "## Redukcja skośności"
   ]
  },
  {
   "cell_type": "code",
   "execution_count": null,
   "metadata": {
    "cell_id": "00018-f5e76755-8791-435e-bd0f-dd3c2d09df21",
    "deepnote_cell_height": 102,
    "deepnote_cell_type": "code"
   },
   "outputs": [],
   "source": [
    "features = list(X_train.select_dtypes('float64').columns)\n",
    "\n",
    "high_skewness = []"
   ]
  },
  {
   "cell_type": "code",
   "execution_count": null,
   "metadata": {
    "cell_id": "00019-371ec369-f9b6-4b86-888c-7d9bd8f88f79",
    "deepnote_cell_height": 102,
    "deepnote_cell_type": "code"
   },
   "outputs": [],
   "source": [
    "for el in features:\n",
    "    if skew(X_train[el]) > 1.5:\n",
    "        high_skewness.append(el)"
   ]
  },
  {
   "cell_type": "code",
   "execution_count": null,
   "metadata": {
    "cell_id": "00020-a12ad209-6984-4575-b29a-3463bb00e4ab",
    "deepnote_cell_height": 84,
    "deepnote_cell_type": "code"
   },
   "outputs": [],
   "source": [
    "X_train[high_skewness] = np.log2(X_train[high_skewness] + sys.float_info.epsilon)\n",
    "X_val[high_skewness] = np.log2(X_val[high_skewness] + sys.float_info.epsilon)"
   ]
  },
  {
   "cell_type": "markdown",
   "metadata": {
    "cell_id": "00021-ebca4ca3-bf49-4ca3-850f-664a9f1fe918",
    "deepnote_cell_height": 82,
    "deepnote_cell_type": "markdown"
   },
   "source": [
    "# Regresja liniowa"
   ]
  },
  {
   "cell_type": "code",
   "execution_count": null,
   "metadata": {
    "cell_id": "00022-2916de16-3ab9-4ab7-8aba-076d5f7ac89d",
    "deepnote_cell_height": 156,
    "deepnote_cell_type": "code"
   },
   "outputs": [],
   "source": [
    "from sklearn.linear_model import LinearRegression\n",
    "\n",
    "\n",
    "linreg = LinearRegression()\n",
    "\n",
    "linreg.fit(X_train, y_train)"
   ]
  },
  {
   "cell_type": "code",
   "execution_count": null,
   "metadata": {
    "cell_id": "00023-fcbf409f-a462-4108-b228-d26c24929045",
    "deepnote_cell_height": 66,
    "deepnote_cell_type": "code"
   },
   "outputs": [],
   "source": [
    "predictions = linreg.predict(X_val)"
   ]
  },
  {
   "cell_type": "code",
   "execution_count": null,
   "metadata": {
    "cell_id": "00024-59d0d921-aea6-4fd9-94d0-8b805ef8610c",
    "deepnote_cell_height": 138,
    "deepnote_cell_type": "code"
   },
   "outputs": [],
   "source": [
    "from sklearn.metrics import mean_absolute_error, mean_squared_error, r2_score\n",
    "\n",
    "print(f\"MAE: {mean_absolute_error(y_val, predictions):.3}\")\n",
    "print(f\"RMSE: {mean_squared_error(y_val, predictions):.3}\")\n",
    "print(f\"R2 score: {r2_score(y_val, predictions):.3}\")"
   ]
  },
  {
   "cell_type": "markdown",
   "metadata": {
    "cell_id": "00025-24166e76-a7da-4381-a2cc-b2a23235132e",
    "deepnote_cell_height": 82,
    "deepnote_cell_type": "markdown"
   },
   "source": [
    "# XGBRegressor"
   ]
  },
  {
   "cell_type": "code",
   "execution_count": null,
   "metadata": {
    "cell_id": "00026-084f35b4-79a2-48ad-905e-0894d81bde45",
    "deepnote_cell_height": 66,
    "deepnote_cell_type": "code"
   },
   "outputs": [],
   "source": [
    "import xgboost as xgb"
   ]
  },
  {
   "cell_type": "code",
   "execution_count": null,
   "metadata": {
    "cell_id": "00027-de864d6b-5a15-4ef4-ace1-959b9619e5ec",
    "deepnote_cell_height": 102,
    "deepnote_cell_type": "code"
   },
   "outputs": [],
   "source": [
    "xgbreg = xgb.XGBRegressor()\n",
    "\n",
    "xgbreg.fit(X_train, y_train)"
   ]
  },
  {
   "cell_type": "code",
   "execution_count": null,
   "metadata": {
    "cell_id": "00028-51aa9baa-4b21-4f65-8753-bc00fae3e67d",
    "deepnote_cell_height": 66,
    "deepnote_cell_type": "code"
   },
   "outputs": [],
   "source": [
    "predictions = xgbreg.predict(X_val)"
   ]
  },
  {
   "cell_type": "code",
   "execution_count": null,
   "metadata": {
    "cell_id": "00029-3a0e36f4-acc9-499c-8d47-4afacd065d27",
    "deepnote_cell_height": 102,
    "deepnote_cell_type": "code"
   },
   "outputs": [],
   "source": [
    "print(f\"MAE: {mean_absolute_error(y_val, predictions):.3}\")\n",
    "print(f\"RMSE: {mean_squared_error(y_val, predictions):.3}\")\n",
    "print(f\"R2 score: {r2_score(y_val, predictions):.3}\")"
   ]
  },
  {
   "cell_type": "markdown",
   "metadata": {
    "cell_id": "00034-27039e2f-5e11-4a38-b89d-07687a02c9c9",
    "deepnote_cell_height": 82,
    "deepnote_cell_type": "markdown"
   },
   "source": [
    "# Random Forest Regressor"
   ]
  },
  {
   "cell_type": "code",
   "execution_count": null,
   "metadata": {
    "cell_id": "00035-c0e8ae23-4420-4fb8-9dfa-4fae559b74e5",
    "deepnote_cell_height": 246,
    "deepnote_cell_type": "code"
   },
   "outputs": [],
   "source": [
    "from sklearn.ensemble import RandomForestRegressor\n",
    "\n",
    "rfr = RandomForestRegressor()\n",
    "\n",
    "rfr.fit(X_train, y_train)\n",
    "\n",
    "predictions = rfr.predict(X_val)\n",
    "\n",
    "print(f\"MAE: {mean_absolute_error(y_val, predictions):.3}\")\n",
    "print(f\"RMSE: {mean_squared_error(y_val, predictions):.3}\")\n",
    "print(f\"R2 score: {r2_score(y_val, predictions):.3}\")"
   ]
  },
  {
   "cell_type": "markdown",
   "metadata": {
    "cell_id": "00038-9589b8d6-8c86-4512-9b7c-7ccc75207591",
    "deepnote_cell_height": 82,
    "deepnote_cell_type": "markdown"
   },
   "source": [
    "# CatBoost"
   ]
  },
  {
   "cell_type": "code",
   "execution_count": null,
   "metadata": {
    "cell_id": "00039-a82ff14d-43da-49bd-b07d-f104a00947aa",
    "deepnote_cell_height": 18679,
    "deepnote_cell_type": "code"
   },
   "outputs": [],
   "source": [
    "from catboost import CatBoostRegressor\n",
    "from sklearn.metrics import mean_absolute_error, mean_squared_error, r2_score\n",
    "\n",
    "ctboost = CatBoostRegressor(iterations = 5000, learning_rate = 0.03, \n",
    "                            task_type = 'GPU', verbose = 0)\n",
    "\n",
    "ctboost.fit(X_train, y_train)\n",
    "\n",
    "predictions = ctboost.predict(X_val)\n",
    "\n",
    "print(f\"MAE: {mean_absolute_error(y_val, predictions):.3}\")\n",
    "print(f\"RMSE: {mean_squared_error(y_val, predictions):.3}\")\n",
    "print(f\"R2 score: {r2_score(y_val, predictions):.3}\")"
   ]
  },
  {
   "cell_type": "code",
   "execution_count": null,
   "metadata": {
    "cell_id": "00040-200074a2-8620-4c3d-b3c5-849b40e09d51",
    "deepnote_cell_height": 224,
    "deepnote_cell_type": "code",
    "scrolled": true
   },
   "outputs": [],
   "source": [
    "predictions = ctboost.predict(X_train)\n",
    "\n",
    "print(f\"MAE: {mean_absolute_error(y_train, predictions):.3}\")\n",
    "print(f\"RMSE: {mean_squared_error(y_train, predictions):.3}\")\n",
    "print(f\"R2 score: {r2_score(y_train, predictions):.3}\")"
   ]
  },
  {
   "cell_type": "markdown",
   "metadata": {
    "cell_id": "00042-6152ea19-7ec3-4601-a810-c65d9ab574cb",
    "deepnote_cell_height": 82,
    "deepnote_cell_type": "markdown"
   },
   "source": [
    "# HPO - Optymalizacja bayesowska"
   ]
  },
  {
   "cell_type": "code",
   "execution_count": null,
   "metadata": {
    "cell_id": "00043-7552f760-c176-43ab-89e5-4b7ab3669614",
    "deepnote_cell_height": 102,
    "deepnote_cell_type": "code"
   },
   "outputs": [],
   "source": [
    "from skopt import BayesSearchCV\n",
    "from skopt.callbacks import DeadlineStopper, DeltaYStopper\n",
    "from skopt.space import Real, Categorical, Integer"
   ]
  },
  {
   "cell_type": "code",
   "execution_count": null,
   "metadata": {
    "cell_id": "00044-02a697ed-d6b5-4838-9c9f-5b7d217736e7",
    "deepnote_cell_height": 606,
    "deepnote_cell_type": "code"
   },
   "outputs": [],
   "source": [
    "def report_perf(optimizer, X, y, title=\"model\", callbacks=None):\n",
    "    start = time()\n",
    "    \n",
    "    if callbacks is not None:\n",
    "        optimizer.fit(X, y, callback=callbacks)\n",
    "    else:\n",
    "        optimizer.fit(X, y)\n",
    "        \n",
    "    d=pd.DataFrame(optimizer.cv_results_)\n",
    "    best_score = optimizer.best_score_\n",
    "    best_score_std = d.iloc[optimizer.best_index_].std_test_score\n",
    "    best_params = optimizer.best_params_\n",
    "    \n",
    "    print((title + \" took %.2f seconds,  candidates checked: %d, best CV score: %.3f \"\n",
    "           + u\"\\u00B1\"+\" %.3f\") % (time() - start, \n",
    "                                   len(optimizer.cv_results_['params']),\n",
    "                                   best_score,\n",
    "                                   best_score_std))    \n",
    "    print('Best parameters:')\n",
    "    print(best_params)\n",
    "    print()\n",
    "    return best_params"
   ]
  },
  {
   "cell_type": "code",
   "execution_count": null,
   "metadata": {
    "cell_id": "00045-5603c7fa-8f83-440e-99f4-cc52dfd9a228",
    "deepnote_cell_height": 156,
    "deepnote_cell_type": "code"
   },
   "outputs": [],
   "source": [
    "from sklearn.metrics import make_scorer\n",
    "from functools import partial\n",
    "\n",
    "scoring = make_scorer(partial(mean_squared_error, squared=False), \n",
    "                      greater_is_better=False)"
   ]
  },
  {
   "cell_type": "code",
   "execution_count": null,
   "metadata": {
    "cell_id": "00046-ea0dfc80-c7d4-4174-9291-063242413ee3",
    "deepnote_cell_height": 192,
    "deepnote_cell_type": "code"
   },
   "outputs": [],
   "source": [
    "from sklearn.model_selection import KFold\n",
    "\n",
    "skf = KFold(n_splits=5, \n",
    "                      shuffle=True, \n",
    "                      random_state=0)\n",
    "\n",
    "cv_strategy = list(skf.split(X_train, y_train))"
   ]
  },
  {
   "cell_type": "code",
   "execution_count": null,
   "metadata": {
    "cell_id": "00047-82720282-f7d2-407f-bd80-e2806d8747a2",
    "deepnote_cell_height": 264,
    "deepnote_cell_type": "code"
   },
   "outputs": [],
   "source": [
    "# Setting the search space\n",
    "regression_loss_funcs = ['RMSE']\n",
    "\n",
    "search_spaces = {\n",
    "    'loss_function': Categorical(regression_loss_funcs),\n",
    "    'iterations': Integer(10, 2000),\n",
    "    'depth': Integer(1, 12),\n",
    "    'learning_rate': Real(0.01, 1.0, 'log-uniform'),\n",
    "    'random_strength': Real(1e-9, 10, 'log-uniform'),\n",
    "    'bagging_temperature': Real(0.0, 1.0),\n",
    "    'l2_leaf_reg': Integer(2, 100) \n",
    "   }"
   ]
  },
  {
   "cell_type": "code",
   "execution_count": null,
   "metadata": {
    "cell_id": "00048-59b5ebb4-d900-455e-8c97-179141d0abf0",
    "deepnote_cell_height": 336,
    "deepnote_cell_type": "code"
   },
   "outputs": [],
   "source": [
    "reg = CatBoostRegressor(verbose = False, od_type='Iter')\n",
    "\n",
    "opt = BayesSearchCV(estimator=reg,                                    \n",
    "                    search_spaces=search_spaces,                      \n",
    "                    scoring=scoring,                                  \n",
    "                    cv=cv_strategy,                                           \n",
    "                    n_iter=30,                                       \n",
    "                    n_points=3,                                      \n",
    "                    n_jobs=-1,                                       \n",
    "                    iid=False,                                        \n",
    "                    return_train_score=False,                         \n",
    "                    refit=False,                                      \n",
    "                    optimizer_kwargs={'base_estimator': 'GP'},        \n",
    "                    random_state=0)                                  "
   ]
  },
  {
   "cell_type": "code",
   "execution_count": null,
   "metadata": {
    "cell_id": "00049-9ef9bfb3-8cec-4f8f-a223-1192ede2129f",
    "deepnote_cell_height": 302.796875,
    "deepnote_cell_type": "code"
   },
   "outputs": [],
   "source": [
    "from time import time\n",
    "\n",
    "overdone_control = DeltaYStopper(delta=0.0001)             \n",
    "time_limit_control = DeadlineStopper(total_time=60 * 60) \n",
    "\n",
    "best_params = report_perf(opt, X_train, y_train, 'CatBoost_regression', \n",
    "                          callbacks=[overdone_control, time_limit_control])"
   ]
  },
  {
   "cell_type": "code",
   "execution_count": null,
   "metadata": {
    "cell_id": "00050-f79cbb59-69a5-44eb-aa22-3ca9a359977b",
    "deepnote_cell_height": 233.375,
    "deepnote_cell_type": "code",
    "deepnote_output_heights": [
     136.390625
    ]
   },
   "outputs": [],
   "source": [
    "best_params"
   ]
  },
  {
   "cell_type": "code",
   "execution_count": null,
   "metadata": {
    "cell_id": "00051-8cbf9f28-a507-4536-94b0-81d3392bd426",
    "deepnote_cell_height": 102,
    "deepnote_cell_type": "code"
   },
   "outputs": [],
   "source": [
    "reg = CatBoostRegressor(verbose = False,\n",
    "                        **best_params)"
   ]
  },
  {
   "cell_type": "markdown",
   "metadata": {},
   "source": [
    "# Sprawdzenie dla niezależnego zbioru testowego"
   ]
  },
  {
   "cell_type": "code",
   "execution_count": null,
   "metadata": {},
   "outputs": [],
   "source": [
    "y_test = test[['log_price']]\n",
    "X_test = test[test.columns.drop('log_price')]\n",
    "\n",
    "X_test = preprocess_data(X_test, test_data = True)\n",
    "X_test = pd.DataFrame(X_test, columns = c)\n",
    "X_test.drop(to_drop, axis=1, inplace=True)\n",
    "X_test[high_skewness] = np.log2(X_test[high_skewness] + sys.float_info.epsilon)"
   ]
  },
  {
   "cell_type": "code",
   "execution_count": null,
   "metadata": {
    "cell_id": "00052-4f8dd25b-4dd0-4942-b651-ebd1216af969",
    "deepnote_cell_height": 118.1875,
    "deepnote_cell_type": "code",
    "deepnote_output_heights": [
     21.1875
    ]
   },
   "outputs": [],
   "source": [
    "reg.fit(X_train, y_train)"
   ]
  },
  {
   "cell_type": "code",
   "execution_count": null,
   "metadata": {
    "cell_id": "00053-bd56f283-b3bd-4689-9664-6f449b3c5c73",
    "deepnote_cell_height": 224,
    "deepnote_cell_type": "code",
    "owner_user_id": "b81669c4-ef1c-431e-944e-8b9c8b85861c"
   },
   "outputs": [],
   "source": [
    "predictions = reg.predict(X_test)\n",
    "\n",
    "print(\"Finalne wyniki: \")\n",
    "print(f\"- MAE: {mean_absolute_error(y_test, predictions):.3}\")\n",
    "print(f\"- RMSE: {mean_squared_error(y_test, predictions):.3}\")\n",
    "print(f\"- R2 score: {r2_score(y_test, predictions):.3}\")"
   ]
  },
  {
   "cell_type": "code",
   "execution_count": null,
   "metadata": {
    "cell_id": "00054-99a82dac-9c37-4760-8584-f0630c775ed2",
    "deepnote_cell_height": 552,
    "deepnote_cell_type": "code"
   },
   "outputs": [],
   "source": [
    "import shap\n",
    "explainer = shap.TreeExplainer(ctboost)\n",
    "shap_values = explainer.shap_values(X_train)\n",
    "shap.summary_plot(shap_values, X_train, plot_type=\"bar\")\n",
    "\n",
    "import matplotlib.pyplot as plt\n",
    "f = plt.figure()\n",
    "shap.summary_plot(shap_values, X_train)\n",
    "\n",
    "shap.dependence_plot(\"accommodates\", shap_values, X_train)\n",
    "\n",
    "X_output = X_val.copy()\n",
    "X_output.loc[:,'predict'] = np.round(ctboost.predict(X_output),2)\n",
    "\n",
    "random_picks = np.arange(1, 330, 50)\n",
    "S = X_output.iloc[random_picks]\n",
    "\n",
    "def shap_plot(j):\n",
    "    explainerModel = shap.TreeExplainer(ctboost)\n",
    "    shap_values_Model = explainerModel.shap_values(S)\n",
    "    p = shap.force_plot(explainerModel.expected_value, shap_values_Model[j], S.iloc[[j]])\n",
    "    return(p)\n",
    "\n",
    "shap.initjs()\n",
    "shap_plot(3)\n",
    "\n",
    "shap.plots._waterfall.waterfall_legacy(explainer.expected_value, shap_values[2137], feature_names=X_train.columns)"
   ]
  },
  {
   "cell_type": "code",
   "execution_count": null,
   "metadata": {
    "cell_id": "18f6dceacb234c7e90c81e6259214d6e",
    "deepnote_cell_height": 102,
    "deepnote_cell_type": "code",
    "tags": []
   },
   "outputs": [],
   "source": [
    "import matplotlib.pyplot as plt\n",
    "f = plt.figure()\n",
    "shap.summary_plot(shap_values, X_train)"
   ]
  },
  {
   "cell_type": "code",
   "execution_count": null,
   "metadata": {
    "cell_id": "7c298078efd64583b0eaf78964faaab0",
    "deepnote_cell_height": 66,
    "deepnote_cell_type": "code",
    "tags": []
   },
   "outputs": [],
   "source": [
    "shap.dependence_plot(\"accommodates\", shap_values, X_train)"
   ]
  },
  {
   "cell_type": "code",
   "execution_count": null,
   "metadata": {
    "cell_id": "5ce28a5a9bc4409a9f703a789cfe2cc9",
    "deepnote_cell_height": 264,
    "deepnote_cell_type": "code",
    "tags": []
   },
   "outputs": [],
   "source": [
    "X_output = X_val.copy()\n",
    "X_output.loc[:,'predict'] = np.round(ctboost.predict(X_output),2)\n",
    "\n",
    "# Randomly pick some observations\n",
    "random_picks = np.arange(1,330,50)\n",
    "S = X_output.iloc[random_picks]\n",
    "\n",
    "def shap_plot(j):\n",
    "    explainerModel = shap.TreeExplainer(ctboost)\n",
    "    shap_values_Model = explainerModel.shap_values(S)\n",
    "    p = shap.force_plot(explainerModel.expected_value, shap_values_Model[j], S.iloc[[j]])\n",
    "    return(p)"
   ]
  },
  {
   "cell_type": "code",
   "execution_count": null,
   "metadata": {
    "cell_id": "70052e8013df4b5dafe399a05531151c",
    "deepnote_cell_height": 84,
    "deepnote_cell_type": "code",
    "tags": []
   },
   "outputs": [],
   "source": [
    "shap.initjs()\n",
    "shap_plot(3)"
   ]
  },
  {
   "cell_type": "code",
   "execution_count": null,
   "metadata": {
    "cell_id": "c13b4c62922f4327a93ed62fcd2cc363",
    "deepnote_cell_height": 66,
    "deepnote_cell_type": "code",
    "tags": []
   },
   "outputs": [],
   "source": [
    "shap.plots._waterfall.waterfall_legacy(explainer.expected_value, shap_values[111], feature_names=X_train.columns)"
   ]
  },
  {
   "cell_type": "code",
   "execution_count": null,
   "metadata": {},
   "outputs": [],
   "source": [
    "rates = np.logspace(-3, 0, num=10)\n",
    "train_errors = list()\n",
    "test_errors = list()\n",
    "for lr in rates:\n",
    "    ctb = CatBoostRegressor(learning_rate = lr, verbose=0)\n",
    "    ctb.fit(X_train, y_train)\n",
    "    preds_val = ctb.predict(X_val)\n",
    "    preds_train = ctb.predict(X_train)\n",
    "    train_errors.append(mean_squared_error(y_train, preds_train))\n",
    "    test_errors.append(mean_squared_error(y_val, preds_val))\n",
    "plt.plot(rates, train_errors , label = \"train_errors\")\n",
    "plt.plot(rates, test_errors, label = \"test_errors\")\n",
    "min_err = min(test_errors)\n",
    "opt_rate = rates[np.where(test_errors == min_err)]\n",
    "plt.annotate(\n",
    "'Optimal learning rate', xy=(opt_rate, min_err), xytext=(opt_rate - 0.05, min_err + 0.03),\n",
    "arrowprops=dict(facecolor='black', shrink=0.05))\n",
    "plt.xscale('log')\n",
    "plt.xlabel('learning rate')\n",
    "plt.ylabel('RMSE')\n",
    "plt.legend()\n",
    "plt.show()"
   ]
  }
 ],
 "metadata": {
  "deepnote": {},
  "deepnote_execution_queue": [],
  "deepnote_notebook_id": "fdb52bcf-d927-494c-a072-a8bf418ab8fe",
  "interpreter": {
   "hash": "5aee893a8ff5d7a7c4f7470fb463d16fc0c27b2278cd28701ef9a0025860db00"
  },
  "kernelspec": {
   "display_name": "Python 3",
   "language": "python",
   "name": "python3"
  },
  "language_info": {
   "codemirror_mode": {
    "name": "ipython",
    "version": 3
   },
   "file_extension": ".py",
   "mimetype": "text/x-python",
   "name": "python",
   "nbconvert_exporter": "python",
   "pygments_lexer": "ipython3",
   "version": "3.8.5"
  }
 },
 "nbformat": 4,
 "nbformat_minor": 2
}
