{
 "cells": [
  {
   "cell_type": "code",
   "execution_count": 1,
   "metadata": {},
   "outputs": [],
   "source": [
    "import pandas as pd\n",
    "import numpy as np\n",
    "import matplotlib.pyplot as plt"
   ]
  },
  {
   "cell_type": "markdown",
   "metadata": {},
   "source": [
    "# EDA - Eksploracyjna Analiza Danych"
   ]
  },
  {
   "cell_type": "code",
   "execution_count": 3,
   "metadata": {},
   "outputs": [],
   "source": [
    "data = pd.read_csv('data/train.csv')"
   ]
  },
  {
   "cell_type": "code",
   "execution_count": 4,
   "metadata": {},
   "outputs": [
    {
     "data": {
      "text/plain": [
       "(74111, 29)"
      ]
     },
     "execution_count": 4,
     "metadata": {},
     "output_type": "execute_result"
    }
   ],
   "source": [
    "data.shape"
   ]
  },
  {
   "cell_type": "code",
   "execution_count": 18,
   "metadata": {
    "scrolled": false
   },
   "outputs": [
    {
     "name": "stdout",
     "output_type": "stream",
     "text": [
      "<class 'pandas.core.frame.DataFrame'>\n",
      "RangeIndex: 74111 entries, 0 to 74110\n",
      "Data columns (total 29 columns):\n",
      " #   Column                  Non-Null Count  Dtype  \n",
      "---  ------                  --------------  -----  \n",
      " 0   id                      74111 non-null  int64  \n",
      " 1   log_price               74111 non-null  float64\n",
      " 2   property_type           74111 non-null  object \n",
      " 3   room_type               74111 non-null  object \n",
      " 4   amenities               74111 non-null  object \n",
      " 5   accommodates            74111 non-null  int64  \n",
      " 6   bathrooms               73911 non-null  float64\n",
      " 7   bed_type                74111 non-null  object \n",
      " 8   cancellation_policy     74111 non-null  object \n",
      " 9   cleaning_fee            74111 non-null  bool   \n",
      " 10  city                    74111 non-null  object \n",
      " 11  description             74111 non-null  object \n",
      " 12  first_review            58247 non-null  object \n",
      " 13  host_has_profile_pic    73923 non-null  object \n",
      " 14  host_identity_verified  73923 non-null  object \n",
      " 15  host_response_rate      55812 non-null  object \n",
      " 16  host_since              73923 non-null  object \n",
      " 17  instant_bookable        74111 non-null  object \n",
      " 18  last_review             58284 non-null  object \n",
      " 19  latitude                74111 non-null  float64\n",
      " 20  longitude               74111 non-null  float64\n",
      " 21  name                    74111 non-null  object \n",
      " 22  neighbourhood           67239 non-null  object \n",
      " 23  number_of_reviews       74111 non-null  int64  \n",
      " 24  review_scores_rating    57389 non-null  float64\n",
      " 25  thumbnail_url           65895 non-null  object \n",
      " 26  zipcode                 73145 non-null  object \n",
      " 27  bedrooms                74020 non-null  float64\n",
      " 28  beds                    73980 non-null  float64\n",
      "dtypes: bool(1), float64(7), int64(3), object(18)\n",
      "memory usage: 15.9+ MB\n"
     ]
    }
   ],
   "source": [
    "data.info()"
   ]
  },
  {
   "cell_type": "markdown",
   "metadata": {},
   "source": [
    "Kolumna `cleaning_fee` typu Boolean zostanie zencodowana przy użyciu OrdinalEncoder'a (0 - False, 1 - True)."
   ]
  },
  {
   "cell_type": "code",
   "execution_count": 5,
   "metadata": {},
   "outputs": [
    {
     "data": {
      "text/html": [
       "<div>\n",
       "<style scoped>\n",
       "    .dataframe tbody tr th:only-of-type {\n",
       "        vertical-align: middle;\n",
       "    }\n",
       "\n",
       "    .dataframe tbody tr th {\n",
       "        vertical-align: top;\n",
       "    }\n",
       "\n",
       "    .dataframe thead th {\n",
       "        text-align: right;\n",
       "    }\n",
       "</style>\n",
       "<table border=\"1\" class=\"dataframe\">\n",
       "  <thead>\n",
       "    <tr style=\"text-align: right;\">\n",
       "      <th></th>\n",
       "      <th>count</th>\n",
       "      <th>mean</th>\n",
       "      <th>std</th>\n",
       "      <th>min</th>\n",
       "      <th>25%</th>\n",
       "      <th>50%</th>\n",
       "      <th>75%</th>\n",
       "      <th>max</th>\n",
       "    </tr>\n",
       "  </thead>\n",
       "  <tbody>\n",
       "    <tr>\n",
       "      <th>id</th>\n",
       "      <td>74111.0</td>\n",
       "      <td>1.126662e+07</td>\n",
       "      <td>6.081735e+06</td>\n",
       "      <td>344.000000</td>\n",
       "      <td>6.261964e+06</td>\n",
       "      <td>1.225415e+07</td>\n",
       "      <td>1.640226e+07</td>\n",
       "      <td>2.123090e+07</td>\n",
       "    </tr>\n",
       "    <tr>\n",
       "      <th>log_price</th>\n",
       "      <td>74111.0</td>\n",
       "      <td>4.782069e+00</td>\n",
       "      <td>7.173938e-01</td>\n",
       "      <td>0.000000</td>\n",
       "      <td>4.317488e+00</td>\n",
       "      <td>4.709530e+00</td>\n",
       "      <td>5.220356e+00</td>\n",
       "      <td>7.600402e+00</td>\n",
       "    </tr>\n",
       "    <tr>\n",
       "      <th>accommodates</th>\n",
       "      <td>74111.0</td>\n",
       "      <td>3.155146e+00</td>\n",
       "      <td>2.153589e+00</td>\n",
       "      <td>1.000000</td>\n",
       "      <td>2.000000e+00</td>\n",
       "      <td>2.000000e+00</td>\n",
       "      <td>4.000000e+00</td>\n",
       "      <td>1.600000e+01</td>\n",
       "    </tr>\n",
       "    <tr>\n",
       "      <th>bathrooms</th>\n",
       "      <td>73911.0</td>\n",
       "      <td>1.235263e+00</td>\n",
       "      <td>5.820441e-01</td>\n",
       "      <td>0.000000</td>\n",
       "      <td>1.000000e+00</td>\n",
       "      <td>1.000000e+00</td>\n",
       "      <td>1.000000e+00</td>\n",
       "      <td>8.000000e+00</td>\n",
       "    </tr>\n",
       "    <tr>\n",
       "      <th>latitude</th>\n",
       "      <td>74111.0</td>\n",
       "      <td>3.844596e+01</td>\n",
       "      <td>3.080167e+00</td>\n",
       "      <td>33.338905</td>\n",
       "      <td>3.412791e+01</td>\n",
       "      <td>4.066214e+01</td>\n",
       "      <td>4.074610e+01</td>\n",
       "      <td>4.239044e+01</td>\n",
       "    </tr>\n",
       "    <tr>\n",
       "      <th>longitude</th>\n",
       "      <td>74111.0</td>\n",
       "      <td>-9.239753e+01</td>\n",
       "      <td>2.170532e+01</td>\n",
       "      <td>-122.511500</td>\n",
       "      <td>-1.183424e+02</td>\n",
       "      <td>-7.699696e+01</td>\n",
       "      <td>-7.395466e+01</td>\n",
       "      <td>-7.098505e+01</td>\n",
       "    </tr>\n",
       "    <tr>\n",
       "      <th>number_of_reviews</th>\n",
       "      <td>74111.0</td>\n",
       "      <td>2.090057e+01</td>\n",
       "      <td>3.782864e+01</td>\n",
       "      <td>0.000000</td>\n",
       "      <td>1.000000e+00</td>\n",
       "      <td>6.000000e+00</td>\n",
       "      <td>2.300000e+01</td>\n",
       "      <td>6.050000e+02</td>\n",
       "    </tr>\n",
       "    <tr>\n",
       "      <th>review_scores_rating</th>\n",
       "      <td>57389.0</td>\n",
       "      <td>9.406736e+01</td>\n",
       "      <td>7.836556e+00</td>\n",
       "      <td>20.000000</td>\n",
       "      <td>9.200000e+01</td>\n",
       "      <td>9.600000e+01</td>\n",
       "      <td>1.000000e+02</td>\n",
       "      <td>1.000000e+02</td>\n",
       "    </tr>\n",
       "    <tr>\n",
       "      <th>bedrooms</th>\n",
       "      <td>74020.0</td>\n",
       "      <td>1.265793e+00</td>\n",
       "      <td>8.521435e-01</td>\n",
       "      <td>0.000000</td>\n",
       "      <td>1.000000e+00</td>\n",
       "      <td>1.000000e+00</td>\n",
       "      <td>1.000000e+00</td>\n",
       "      <td>1.000000e+01</td>\n",
       "    </tr>\n",
       "    <tr>\n",
       "      <th>beds</th>\n",
       "      <td>73980.0</td>\n",
       "      <td>1.710868e+00</td>\n",
       "      <td>1.254142e+00</td>\n",
       "      <td>0.000000</td>\n",
       "      <td>1.000000e+00</td>\n",
       "      <td>1.000000e+00</td>\n",
       "      <td>2.000000e+00</td>\n",
       "      <td>1.800000e+01</td>\n",
       "    </tr>\n",
       "  </tbody>\n",
       "</table>\n",
       "</div>"
      ],
      "text/plain": [
       "                        count          mean           std         min  \\\n",
       "id                    74111.0  1.126662e+07  6.081735e+06  344.000000   \n",
       "log_price             74111.0  4.782069e+00  7.173938e-01    0.000000   \n",
       "accommodates          74111.0  3.155146e+00  2.153589e+00    1.000000   \n",
       "bathrooms             73911.0  1.235263e+00  5.820441e-01    0.000000   \n",
       "latitude              74111.0  3.844596e+01  3.080167e+00   33.338905   \n",
       "longitude             74111.0 -9.239753e+01  2.170532e+01 -122.511500   \n",
       "number_of_reviews     74111.0  2.090057e+01  3.782864e+01    0.000000   \n",
       "review_scores_rating  57389.0  9.406736e+01  7.836556e+00   20.000000   \n",
       "bedrooms              74020.0  1.265793e+00  8.521435e-01    0.000000   \n",
       "beds                  73980.0  1.710868e+00  1.254142e+00    0.000000   \n",
       "\n",
       "                               25%           50%           75%           max  \n",
       "id                    6.261964e+06  1.225415e+07  1.640226e+07  2.123090e+07  \n",
       "log_price             4.317488e+00  4.709530e+00  5.220356e+00  7.600402e+00  \n",
       "accommodates          2.000000e+00  2.000000e+00  4.000000e+00  1.600000e+01  \n",
       "bathrooms             1.000000e+00  1.000000e+00  1.000000e+00  8.000000e+00  \n",
       "latitude              3.412791e+01  4.066214e+01  4.074610e+01  4.239044e+01  \n",
       "longitude            -1.183424e+02 -7.699696e+01 -7.395466e+01 -7.098505e+01  \n",
       "number_of_reviews     1.000000e+00  6.000000e+00  2.300000e+01  6.050000e+02  \n",
       "review_scores_rating  9.200000e+01  9.600000e+01  1.000000e+02  1.000000e+02  \n",
       "bedrooms              1.000000e+00  1.000000e+00  1.000000e+00  1.000000e+01  \n",
       "beds                  1.000000e+00  1.000000e+00  2.000000e+00  1.800000e+01  "
      ]
     },
     "execution_count": 5,
     "metadata": {},
     "output_type": "execute_result"
    }
   ],
   "source": [
    "data.describe().T"
   ]
  },
  {
   "cell_type": "markdown",
   "metadata": {},
   "source": [
    "Wartość minimalna w zmiennej celu (`log_price`) jest równa zero. Wyrzucimy rekordy z tą wartością."
   ]
  },
  {
   "cell_type": "markdown",
   "metadata": {},
   "source": [
    "## Opis kolumn"
   ]
  },
  {
   "cell_type": "markdown",
   "metadata": {},
   "source": [
    "Zbiór danych pochodzi z jednej z wiodących stron internetowych dotyczących wynajmu mieszkań.\n",
    "Dane zawierają 29 kolumn z czego jedną zmienną predykcyjną (log_price).  \n",
    "\n",
    "Opis kolumn:\n",
    "- id - identyfikator\n",
    "- log_price - zlogarytmowana cena mieszkania (zmienna targetu)\n",
    "- property_type - typ nieruchomości\n",
    "- room_type - rodzaj pokoju\n",
    "- amenities - dostępne udogodnienia\n",
    "- accomodates - liczba osób\n",
    "- bathrooms - liczba łazienek \n",
    "- bed_type - rodzaj łóżek\n",
    "- cancellaion_policy - polityka dotycząca anulowanych zamówień\n",
    "- cleaning_fee - opłata za sprzątanie\n",
    "- city - miasto\n",
    "- description - opis mieszkania\n",
    "- first_review - data pierwszej recenzji\n",
    "- host_has_profile_picture - czy właściciel mieszkania ma zdjęcie profilowe\n",
    "- host_identity_verification - czy host jest zweryfikowany\n",
    "- host_response_rate - jak często host odpowiada na zapytania\n",
    "- host_since - od kiedy właściciel udostępnia mieszkanie\n",
    "- instant_bookable - czy mieszkanie jest dostępne do zarezerwowania od razu\n",
    "- last_review - data ostatniej recenzji\n",
    "- latitiude - szerokość geograficzna budynku\n",
    "- longitude - długość geograficzna budynku\n",
    "- name - nazwa oferty mieszkania\n",
    "- neighbourhood - dzielnica/osiedle, na którym znajduje się mieszkanie\n",
    "- number_of_reviews - liczba recenzji\n",
    "- review_scores_rate - ocena użytkowników\n",
    "- thumbnail_url - link do miniaturki hosta\n",
    "- zipcode - kod pocztowy\n",
    "- bedrooms - liczba sypialni\n",
    "- beds - liczba łóżek"
   ]
  },
  {
   "cell_type": "markdown",
   "metadata": {},
   "source": [
    "Kolumna `id` jest do usunięcia, ponieważ nie wnosi żadnych informacji do modelu."
   ]
  },
  {
   "cell_type": "markdown",
   "metadata": {},
   "source": [
    "`log_price` --> kolumna celu"
   ]
  },
  {
   "cell_type": "code",
   "execution_count": 11,
   "metadata": {},
   "outputs": [],
   "source": [
    "categorical = list(data.select_dtypes('object').columns)"
   ]
  },
  {
   "cell_type": "code",
   "execution_count": 14,
   "metadata": {},
   "outputs": [
    {
     "name": "stdout",
     "output_type": "stream",
     "text": [
      "##################################\n",
      "Kolumna: property_type\n",
      "\n",
      "Apartment             49003\n",
      "House                 16511\n",
      "Condominium            2658\n",
      "Townhouse              1692\n",
      "Loft                   1244\n",
      "Other                   607\n",
      "Guesthouse              498\n",
      "Bed & Breakfast         462\n",
      "Bungalow                366\n",
      "Villa                   179\n",
      "Dorm                    142\n",
      "Guest suite             123\n",
      "Camper/RV                94\n",
      "Timeshare                77\n",
      "Cabin                    72\n",
      "In-law                   71\n",
      "Hostel                   70\n",
      "Boutique hotel           69\n",
      "Boat                     65\n",
      "Serviced apartment       21\n",
      "Tent                     18\n",
      "Castle                   13\n",
      "Vacation home            11\n",
      "Yurt                      9\n",
      "Hut                       8\n",
      "Treehouse                 7\n",
      "Chalet                    6\n",
      "Earth House               4\n",
      "Tipi                      3\n",
      "Train                     2\n",
      "Cave                      2\n",
      "Casa particular           1\n",
      "Parking Space             1\n",
      "Lighthouse                1\n",
      "Island                    1\n",
      "Name: property_type, dtype: int64\n",
      "##################################\n",
      "\n",
      "##################################\n",
      "Kolumna: room_type\n",
      "\n",
      "Entire home/apt    41310\n",
      "Private room       30638\n",
      "Shared room         2163\n",
      "Name: room_type, dtype: int64\n",
      "##################################\n",
      "\n",
      "##################################\n",
      "Kolumna: amenities\n",
      "\n",
      "{}                                                                                                                                                                                                                                                                                                                                                                                                                                                                                                                                                                                               586\n",
      "{\"translation missing: en.hosting_amenity_49\",\"translation missing: en.hosting_amenity_50\"}                                                                                                                                                                                                                                                                                                                                                                                                                                                                                                      135\n",
      "{\"Family/kid friendly\"}                                                                                                                                                                                                                                                                                                                                                                                                                                                                                                                                                                          103\n",
      "{\"Pets allowed\",\"Family/kid friendly\"}                                                                                                                                                                                                                                                                                                                                                                                                                                                                                                                                                            27\n",
      "{TV,\"Cable TV\",Internet,\"Wireless Internet\",\"Air conditioning\",Kitchen,\"Pets allowed\",Doorman,Gym,Elevator,Heating,\"Family/kid friendly\",Washer,Dryer,\"Smoke detector\",\"Carbon monoxide detector\",Essentials,Shampoo,\"24-hour check-in\",Hangers,\"Hair dryer\",Iron,\"Laptop friendly workspace\",\"Self Check-In\",Doorman}                                                                                                                                                                                                                                                                            26\n",
      "                                                                                                                                                                                                                                                                                                                                                                                                                                                                                                                                                                                                ... \n",
      "{TV,Internet,\"Wireless Internet\",Kitchen,\"Free parking on premises\",\"Pets live on this property\",Cat(s),Heating,Washer,Dryer,\"Smoke detector\",\"Carbon monoxide detector\",Essentials,Hangers,\"Hair dryer\",Iron,\"Laptop friendly workspace\",\"translation missing: en.hosting_amenity_49\",\"translation missing: en.hosting_amenity_50\"}                                                                                                                                                                                                                                                               1\n",
      "{TV,Internet,\"Air conditioning\",Kitchen,\"Pets allowed\",\"Pets live on this property\",Heating,\"Family/kid friendly\",Washer,Dryer,\"Smoke detector\",Essentials,Shampoo,Hangers,Iron}                                                                                                                                                                                                                                                                                                                                                                                                                   1\n",
      "{TV,\"Cable TV\",Internet,\"Wireless Internet\",Kitchen,\"Pets allowed\",\"Pets live on this property\",Dog(s),Heating,\"Family/kid friendly\",\"Suitable for events\",\"Smoke detector\",\"Carbon monoxide detector\",\"First aid kit\",\"Safety card\",\"Fire extinguisher\",Essentials,Shampoo,\"Lock on bedroom door\",\"24-hour check-in\",Hangers,\"Hair dryer\",Iron,\"Laptop friendly workspace\",\"Children’s books and toys\",\"Hot water\",\"Bed linens\",\"Extra pillows and blankets\",Microwave,\"Coffee maker\",Refrigerator,Dishwasher,\"Dishes and silverware\",\"Cooking basics\",Oven,Stove,\"Luggage dropoff allowed\"}      1\n",
      "{TV,Internet,\"Wireless Internet\",\"Air conditioning\",Kitchen,Heating,\"Family/kid friendly\",Washer,Dryer,\"24-hour check-in\",\"Hair dryer\",Iron,\"Laptop friendly workspace\",\"Self Check-In\",Keypad}                                                                                                                                                                                                                                                                                                                                                                                                    1\n",
      "{TV,Internet,\"Wireless Internet\",Kitchen,\"Free parking on premises\",Heating,\"Family/kid friendly\",\"Smoke detector\",\"Carbon monoxide detector\",\"First aid kit\",\"Safety card\",\"Fire extinguisher\",Essentials,Shampoo,\"24-hour check-in\",Hangers,\"Hair dryer\",\"Laptop friendly workspace\"}                                                                                                                                                                                                                                                                                                            1\n",
      "Name: amenities, Length: 67122, dtype: int64\n",
      "##################################\n",
      "\n",
      "##################################\n",
      "Kolumna: bed_type\n",
      "\n",
      "Real Bed         72028\n",
      "Futon              753\n",
      "Pull-out Sofa      585\n",
      "Airbed             477\n",
      "Couch              268\n",
      "Name: bed_type, dtype: int64\n",
      "##################################\n",
      "\n",
      "##################################\n",
      "Kolumna: cancellation_policy\n",
      "\n",
      "strict             32374\n",
      "flexible           22545\n",
      "moderate           19063\n",
      "super_strict_30      112\n",
      "super_strict_60       17\n",
      "Name: cancellation_policy, dtype: int64\n",
      "##################################\n",
      "\n",
      "##################################\n",
      "Kolumna: city\n",
      "\n",
      "NYC        32349\n",
      "LA         22453\n",
      "SF          6434\n",
      "DC          5688\n",
      "Chicago     3719\n",
      "Boston      3468\n",
      "Name: city, dtype: int64\n",
      "##################################\n",
      "\n",
      "##################################\n",
      "Kolumna: description\n",
      "\n"
     ]
    },
    {
     "name": "stdout",
     "output_type": "stream",
     "text": [
      "Hello, I've been running guest house for Koreans visiting U.S. for 3years, and recently decided to run this place for other travelers also. There are 10 room in the house. They are mostly dormitory rooms and couple of couple room and family room. This places are our women's dormitory in third floor. There are three rooms, but no doors. It is basically open space. There are 2 beds in two rooms and 4 in one room. I do not have closet in this room but there are hangers and mini shelves. My travelers usually put their baggage on the floor. There is one full bathroom only for women in 2nd floor, which you will be sharing with other women guests. Right next that bathroom, there is unisex half bathroom. All bathrooms have hair dryers. You cannot use kitchen, but you can use refrigerator.  I offer breakfast every morning from 7-10 am. Bread, cereal, fruits, coffee, milk and juice will be served. You can eat take-out food in the kitchen, but please wash dishes that you used and put trash in the    8\n",
      "Private room in the heart of Little Italy with FREE PARKING :) You will have your own personal door code and may arrive at ANY time you would like and as late as you wish. You can store your luggage in the closet before check-in and after check-out times :) Price adapts to demand, my rates change constantly - every night is different! Put your dates in the calendar, with the number of guests, and what you see is what you'll pay :) The neighborhood is extremely safe even at night :) Restaurants and bars are right round the corner, both upscale and casual. This room is 6 minutes away by car or uber to Chicago's famous Willis (Sears) tower. Uber costs about $7. If you are arriving by car, I am providing free resident parking passes for anywhere in the area. (Yes, that means you can drive a few blocks and still park anywhere you want!) The room will be solely yours for the time you'll stay in the Windy City. Shall you have any concerns or need any tips from the local, I'll always be happy     7\n",
      "Welcome to RMH, a co-ed hostel vibe home for exploring travelers or working individuals needing temporary housing. (Guests access is from 3pm to 11am daily). NON-SMOKERS ONLY! Host & small dog live on property. NOTE: Guests' bedroom is dog free. GUARANTEED In Our Home: *You receive a clean home in a safe neighborhood, clean sheets, pillow, towel and covers. **You MUST Read House Rules BEFORE Booking :) ***IMPORTANT ***SMOKERS who book: reservation cancelled upon arrival + NO Refund. The bedroom is very large with enough space for everyone (6 guests) to have peace and quiet. The kitchen and bath are very spacious. Guests will have their own keys and have access to the bedroom in which they stay, kitchen, bathroom, living room and deck. OPTIONAL: (Normal Check IN is 3pm, Check OUT is 10am) If you would like an EARLY CHECK IN before 3pm ($25 fee) Guests trying to check in after 10pm will need to get pre-approval from host and pay the late check in fee of $25. There is no key box and no gu    6\n",
      "Brand New 2017 Construction, Featuring 2 Bedrooms and 2 bathrooms . comfortable couch, coffee table, 50-inch TV in living room, with free Satellite Cable channel and internet Wi-Fi. Washer and Dryer in the building on each floor.This lovely Apartment is perfect for families, couples or four close friends! With over 900 square feet of living space.A short freeway ride to Westwood, Hollywood Bowl, Griffith Park, LA Zoo, and downtown venues such as Chinatown, LA Live, Staples Center and Olivera St. Enjoy the open entertainer floor plan featuring a gourmet kitchen with quartz counters w/natural mosaic stone and quartz back splash, Stainless Steel appliances, and designer cabinetry. All baths are tastefully done with tub/showers and sinks. Awesome living area, Enjoy those high ceilings! Terrific master suite with closet space. This is a \"smart home\" featuring an LED recessed lighting. Gated Garage is ready for two full sized cars all side by side.  A cozy retreat for your stay in Los Angele    5\n",
      "OutpostClub is a network of Coliving locations throughout NewYork. We built it to make it super easy to move to NewYork, and to provide cool convenient places for cheap. Coliving - is a shared housing model - where you share kitchen, living rooms, common spaces with others, having private or shared bedrooms of your choice. Everything is included in the flat fee - utilities, furniture, supplies, events. Book Now, grab your suitcase and move into the House, meet people who will become your friends Coliving Club is a beautifully curated living space in New York with a wide range of amenities such as free workspace with printer and scanner, hi-speed Wi-Fi, fully equipped kitchen, dinner and living space, private backyard, individual safe, coffee, tea, soda, shampoo, shower gel, hand soap, towels and much more! Everything is included in our flat fee. Here we thoroughly picked every detail so that you feel cozy. Expect a great night's sleep with our made in USA memory foam mattresses by Broo    5\n",
      "                                                                                                                                                                                                                                                                                                                                                                                                                                                                                                                                                                                                                                                                                                                                                                                                                                                                                                                                                                                                                                           ..\n",
      "You could not get more central. Walking distance to LACC and Sunset Junction and the redline, this is the perfect jumping off point to explore everything LA has to offer. Apartment has a full kitchen with coffee, sugar, spices and all the amenities. PLEASE NOTE THERE IS NO PARKING AND PARKING CAN BE DIFFICULT ON THE STREET.                                                                                                                                                                                                                                                                                                                                                                                                                                                                                                                                                                                                                                                                                                       1\n",
      "Two bedroom Beacon Hill Apartment on quiet side street with plenty of room. There is a beautiful kitchen with granite countertops. It is walking distance to the Boston Common, State House, Newbury Street, Washington Crossing, the Public Garden, Mass General Hospital (.6 miles away), Charles Street & so much more. The entire apartment I am available if needed by my guests. Beacon Hill is a beautiful & historic neighborhood in Boston & is centrally located to most of the popular tourist attractions. The Public Garden & the swan boats, the State House, the Boston Common, Frog Pond, the Esplanade, Newbury Street, Downtown Crossing & the Charles River are all close by. There are fantastic restaurants & bars all within walking distance on Charles Street (Ristorante Toscano's, Tatte Bakery, The Upper Crust, The Paramount, JP Licks, Starbucks) as well as retail shopping, art galleries, antique shops & boutiques. There is parking at the Boston Common parking garage across the street & daytime M    1\n",
      "The apartment is located in the Theatre District of Boston with stunning features and amenities. Nicely furnished, with built in washer and dryer, fully equipped kitchen, spacious living room. 1 minute walk to T. The bedroom  The futon is in the living room.                                                                                                                                                                                                                                                                                                                                                                                                                                                                                                                                                                                                                                                                                                                                                                          1\n",
      "Elegant two bedroom, two bath apartment with generous views located on quiet, charming street within minutes walking distance from NOPA and the Haight's latest and greatest shops and restaurants. Beautiful Edwardian building, surrounded by classic San Francisco homes. Exterior deck. 2000 square foot loft-like apartment with combined living dining area and open kitchen. Expansive bay windows offering great, natural light and terrific views, day and night.  Contemporary, spacious kitchen, great for cooking and a night in. Extensive living space with separate bedrooms and baths, allowing for privacy and quiet ~ perfect for couples traveling together or a family.  Located on a quiet, quintessentially charming SF block, with easy, available parking. Four blocks from the gorgeous Beuna Vista Park.  Excellent access to public transportation, and two blocks from underground Muni.                                                                                                                        1\n",
      "You will stay-aboard the Island Trader at one of the largest ports in the world, You're right in the heart of downtown Long Beach California, walking distant to many events and shopping, including the Long Beach Convention Center, Conference Center, The Queen Mary Ship, The Pike, Pine Street the Pacific Aquarium and much more. (Island Trader) is a private commercial charter boat as well, so if you would like to take a private harbor, sunset or whale watching during your stay just let us know. The Island Trader has comfortable sleeping quarters for up to four people, there is a bathroom onboard, fresh water, a galley with a refrigerator, toaster and microwave oven . Private hot showers are available with just a short walk up on the docks. Towels and linen are provided. Directv and Free WIFI Start your day with a unique shopping experience at Shoreline Village with all of its specialty shops. Next, take a walk over to the Long Beach Aquarium of the Pacific and take a journey of discovery    1\n",
      "Name: description, Length: 73479, dtype: int64\n",
      "##################################\n",
      "\n",
      "##################################\n",
      "Kolumna: first_review\n",
      "\n",
      "2017-01-01    293\n",
      "2017-01-22    249\n",
      "2016-01-02    221\n",
      "2017-01-02    211\n",
      "2017-09-04    193\n",
      "             ... \n",
      "2012-12-09      1\n",
      "2012-04-20      1\n",
      "2010-11-29      1\n",
      "2011-03-28      1\n",
      "2010-12-01      1\n",
      "Name: first_review, Length: 2554, dtype: int64\n",
      "##################################\n",
      "\n",
      "##################################\n",
      "Kolumna: host_has_profile_pic\n",
      "\n",
      "t    73697\n",
      "f      226\n",
      "Name: host_has_profile_pic, dtype: int64\n",
      "##################################\n",
      "\n",
      "##################################\n",
      "Kolumna: host_identity_verified\n",
      "\n",
      "t    49748\n",
      "f    24175\n",
      "Name: host_identity_verified, dtype: int64\n",
      "##################################\n",
      "\n",
      "##################################\n",
      "Kolumna: host_response_rate\n",
      "\n",
      "100%    43254\n",
      "90%      2277\n",
      "80%      1113\n",
      "0%        883\n",
      "50%       611\n",
      "        ...  \n",
      "39%         1\n",
      "15%         1\n",
      "31%         1\n",
      "21%         1\n",
      "6%          1\n",
      "Name: host_response_rate, Length: 80, dtype: int64\n",
      "##################################\n",
      "\n",
      "##################################\n",
      "Kolumna: host_since\n",
      "\n"
     ]
    },
    {
     "name": "stdout",
     "output_type": "stream",
     "text": [
      "2015-03-30    246\n",
      "2014-02-14    173\n",
      "2015-05-18     83\n",
      "2016-09-16     83\n",
      "2015-07-06     82\n",
      "             ... \n",
      "2009-04-08      1\n",
      "2009-11-22      1\n",
      "2010-02-28      1\n",
      "2009-05-11      1\n",
      "2009-08-23      1\n",
      "Name: host_since, Length: 3087, dtype: int64\n",
      "##################################\n",
      "\n",
      "##################################\n",
      "Kolumna: instant_bookable\n",
      "\n",
      "f    54660\n",
      "t    19451\n",
      "Name: instant_bookable, dtype: int64\n",
      "##################################\n",
      "\n",
      "##################################\n",
      "Kolumna: last_review\n",
      "\n",
      "2017-04-30    1344\n",
      "2017-09-24    1278\n",
      "2017-09-17    1215\n",
      "2017-04-23    1025\n",
      "2017-09-18     832\n",
      "              ... \n",
      "2013-12-11       1\n",
      "2014-06-19       1\n",
      "2013-10-26       1\n",
      "2011-03-28       1\n",
      "2013-12-28       1\n",
      "Name: last_review, Length: 1371, dtype: int64\n",
      "##################################\n",
      "\n",
      "##################################\n",
      "Kolumna: name\n",
      "\n",
      "Bunk bed in the Treat Street Clubhouse           8\n",
      "Your home away from home                         7\n",
      "East Village Studio                              7\n",
      "Cozy Private Room                                6\n",
      "Location, Location, Location                     6\n",
      "                                                ..\n",
      "Charming studio apartment in Adams Morgan.       1\n",
      "Studio City cozy studio w/ parking               1\n",
      "SPACIOUS UPPER HAIGHT HOME IN THE HEART OF SF    1\n",
      "Downtown LA Luxury Apartment 2                   1\n",
      "Cozy Boat at Shoreline Village                   1\n",
      "Name: name, Length: 73359, dtype: int64\n",
      "##################################\n",
      "\n",
      "##################################\n",
      "Kolumna: neighbourhood\n",
      "\n",
      "Williamsburg          2862\n",
      "Bedford-Stuyvesant    2166\n",
      "Bushwick              1601\n",
      "Upper West Side       1396\n",
      "Mid-Wilshire          1392\n",
      "                      ... \n",
      "Mill Basin               1\n",
      "Mt. Vernon Square        1\n",
      "Chevy Chase, MD          1\n",
      "Clearing                 1\n",
      "Grant City               1\n",
      "Name: neighbourhood, Length: 619, dtype: int64\n",
      "##################################\n",
      "\n",
      "##################################\n",
      "Kolumna: thumbnail_url\n",
      "\n",
      "https://a0.muscache.com/im/pictures/70087089/bc66229a_original.jpg?aki_policy=small              3\n",
      "https://a0.muscache.com/im/pictures/23033013/54d62516_original.jpg?aki_policy=small              2\n",
      "https://a0.muscache.com/im/pictures/104667326/a7a2b145_original.jpg?aki_policy=small             2\n",
      "https://a0.muscache.com/im/pictures/95059281/d8bfc436_original.jpg?aki_policy=small              2\n",
      "https://a0.muscache.com/im/pictures/4491e5c5-33f6-4704-9887-76a059f86fda.jpg?aki_policy=small    2\n",
      "                                                                                                ..\n",
      "https://a0.muscache.com/im/pictures/111150220/7099e1de_original.jpg?aki_policy=small             1\n",
      "https://a0.muscache.com/im/pictures/bfc6695c-93f9-4a90-a6d8-9f6c038fff28.jpg?aki_policy=small    1\n",
      "https://a0.muscache.com/im/pictures/99319739/70c4beaf_original.jpg?aki_policy=small              1\n",
      "https://a0.muscache.com/im/pictures/3897544/bed318ce_original.jpg?aki_policy=small               1\n",
      "https://a0.muscache.com/im/pictures/22968537/da0156bc_original.jpg?aki_policy=small              1\n",
      "Name: thumbnail_url, Length: 65883, dtype: int64\n",
      "##################################\n",
      "\n",
      "##################################\n",
      "Kolumna: zipcode\n",
      "\n",
      "11211.0       1368\n",
      "90291         1274\n",
      "11221         1188\n",
      "94110          988\n",
      "90046          967\n",
      "              ... \n",
      "10025.0          1\n",
      "91606-1412       1\n",
      "20781            1\n",
      "15074            1\n",
      "10012.0          1\n",
      "Name: zipcode, Length: 769, dtype: int64\n",
      "##################################\n",
      "\n"
     ]
    }
   ],
   "source": [
    "for col in categorical:\n",
    "    print('##################################')\n",
    "    print(\"Kolumna: \" + col)\n",
    "    print()\n",
    "    print(data[col].value_counts())\n",
    "    print('##################################')\n",
    "    print()"
   ]
  },
  {
   "cell_type": "markdown",
   "metadata": {},
   "source": [
    "Kolumna `property_type` zostanie zencodowana przy użyciu OneHotEncoder'a."
   ]
  },
  {
   "cell_type": "markdown",
   "metadata": {},
   "source": [
    "Kolumna `room_type` zostanie zencodowana przy użyciu OneHotEncoder'a."
   ]
  },
  {
   "cell_type": "markdown",
   "metadata": {},
   "source": [
    "Na Kolumnie `amenities` dokanany zostanie rozkład na wartości atomowe i zostanie zencodowana przy użyciu OneHotEncodera\n",
    "np. {'Pets allowed', 'Wifi'} na dwie kolumny Pets allowed i Wifi. "
   ]
  },
  {
   "cell_type": "markdown",
   "metadata": {},
   "source": [
    "`bed_type` --> OneHotEncoder"
   ]
  },
  {
   "cell_type": "markdown",
   "metadata": {},
   "source": [
    "`cancellation_policy` --> OrdinalEncoder (ponieważ mamy zachowany tutaj porządek)"
   ]
  },
  {
   "cell_type": "markdown",
   "metadata": {},
   "source": [
    "`city` --> OneHotEncoder"
   ]
  },
  {
   "cell_type": "markdown",
   "metadata": {},
   "source": [
    "`description`, `name` --> kolumna do wyrzucenia"
   ]
  },
  {
   "cell_type": "markdown",
   "metadata": {},
   "source": [
    "`first_review`, `last_review`, `host_since` --> kolumny rozbite na rok i miesiąc i zamienione na kolumny numeryczne "
   ]
  },
  {
   "cell_type": "markdown",
   "metadata": {},
   "source": [
    "`host_has_profile_pic`, `host_identity_verified`, `instant_bookable` --> OrdinalEncoder (0 - False, 1 - True)"
   ]
  },
  {
   "cell_type": "markdown",
   "metadata": {},
   "source": [
    "`host_response_rate` -> usunięcie % i zamiana na kolumnę numeryczną"
   ]
  },
  {
   "cell_type": "markdown",
   "metadata": {},
   "source": [
    "`neighbourhood` --> OneHotEncoder"
   ]
  },
  {
   "cell_type": "markdown",
   "metadata": {},
   "source": [
    "`thumbnail_url` --> do usunięcia"
   ]
  },
  {
   "cell_type": "markdown",
   "metadata": {},
   "source": [
    "`zip_code` --> do usunięcia, ponieważ mamy `longitude` oraz `latitude`"
   ]
  },
  {
   "cell_type": "markdown",
   "metadata": {},
   "source": [
    "### Kolumny numeryczne"
   ]
  },
  {
   "cell_type": "code",
   "execution_count": 22,
   "metadata": {},
   "outputs": [],
   "source": [
    "numeric = list(data.select_dtypes('number').columns)"
   ]
  },
  {
   "cell_type": "code",
   "execution_count": 23,
   "metadata": {},
   "outputs": [
    {
     "data": {
      "text/plain": [
       "['id',\n",
       " 'log_price',\n",
       " 'accommodates',\n",
       " 'bathrooms',\n",
       " 'latitude',\n",
       " 'longitude',\n",
       " 'number_of_reviews',\n",
       " 'review_scores_rating',\n",
       " 'bedrooms',\n",
       " 'beds']"
      ]
     },
     "execution_count": 23,
     "metadata": {},
     "output_type": "execute_result"
    }
   ],
   "source": [
    "numeric"
   ]
  },
  {
   "cell_type": "markdown",
   "metadata": {},
   "source": [
    "`id` --> do wyrzucenia"
   ]
  },
  {
   "cell_type": "code",
   "execution_count": 27,
   "metadata": {},
   "outputs": [
    {
     "data": {
      "image/png": "[encoded data removed]",
      "text/plain": [
       "<Figure size 720x720 with 9 Axes>"
      ]
     },
     "metadata": {
      "needs_background": "light"
     },
     "output_type": "display_data"
    }
   ],
   "source": [
    "fig,ax = plt.subplots(3,3,figsize=(10,10))\n",
    "row = col = 0\n",
    "for n,i in enumerate(numeric[1:]):\n",
    "    if (n%3 == 0) & (n > 0):\n",
    "        row += 1\n",
    "        col = 0\n",
    "    data[i].hist(ax=ax[row,col])\n",
    "    ax[row,col].set_title(i)\n",
    "    col += 1\n",
    "    \n",
    "fig.tight_layout()\n",
    "\n",
    "plt.show()"
   ]
  },
  {
   "cell_type": "markdown",
   "metadata": {},
   "source": [
    "W kolumnach numerycznych, które zostały sprawdzimy skośność i zastosujemy przekształcenie logarytmiczne w celu redukcji skośności."
   ]
  },
  {
   "cell_type": "markdown",
   "metadata": {},
   "source": [
    "# Braki danych"
   ]
  },
  {
   "cell_type": "code",
   "execution_count": 28,
   "metadata": {},
   "outputs": [
    {
     "data": {
      "text/plain": [
       "bathrooms                   200\n",
       "first_review              15864\n",
       "host_has_profile_pic        188\n",
       "host_identity_verified      188\n",
       "host_response_rate        18299\n",
       "host_since                  188\n",
       "last_review               15827\n",
       "neighbourhood              6872\n",
       "review_scores_rating      16722\n",
       "thumbnail_url              8216\n",
       "zipcode                     966\n",
       "bedrooms                     91\n",
       "beds                        131\n",
       "dtype: int64"
      ]
     },
     "execution_count": 28,
     "metadata": {},
     "output_type": "execute_result"
    }
   ],
   "source": [
    "data.isnull().sum()[data.isnull().sum() > 0]"
   ]
  },
  {
   "cell_type": "markdown",
   "metadata": {},
   "source": [
    "Braki w kolumnach: \n",
    "- `bathrooms`, `beds`, `bedrooms`, `host_response_rate` zastąpimy za pomocą KNNImputer'a\n",
    "- `first_review`, `host_since`, `last_review` - zastąpimy dominantami\n",
    "- `review_scores_rating` - zastąpimy za pomocą IterativeImputer'a"
   ]
  },
  {
   "cell_type": "code",
   "execution_count": 34,
   "metadata": {},
   "outputs": [
    {
     "name": "stdout",
     "output_type": "stream",
     "text": [
      "first_review  first_review\n",
      "2016.0        7.0             2275\n",
      "Name: first_review, dtype: int64\n",
      "\n",
      "last_review  last_review\n",
      "2017.0       9.0            15562\n",
      "Name: last_review, dtype: int64\n",
      "\n",
      "host_since  host_since\n",
      "2015.0      7.0           1528\n",
      "Name: host_since, dtype: int64\n"
     ]
    }
   ],
   "source": [
    "data['first_review'] = pd.to_datetime(data['first_review'], format='%Y-%m-%d')\n",
    "data['last_review'] = pd.to_datetime(data['last_review'], format='%Y-%m-%d')\n",
    "data['host_since'] = pd.to_datetime(data['host_since'], format='%Y-%m-%d')\n",
    "\n",
    "\n",
    "print(data['first_review'].groupby([data[\"first_review\"].dt.year, data[\"first_review\"].dt.month]).count().sort_values(ascending = False).head(1))\n",
    "print()\n",
    "print(data['last_review'].groupby([data[\"last_review\"].dt.year, data[\"last_review\"].dt.month]).count().sort_values(ascending = False).head(1))\n",
    "print()\n",
    "print(data['host_since'].groupby([data[\"host_since\"].dt.year, data[\"host_since\"].dt.month]).count().sort_values(ascending = False).head(1))"
   ]
  },
  {
   "cell_type": "markdown",
   "metadata": {},
   "source": [
    "Dominanty:\n",
    "- `first_review` - 2016.07\n",
    "- `last_review` - 2017.09\n",
    "- `host_since` - 2015.07"
   ]
  },
  {
   "cell_type": "markdown",
   "metadata": {},
   "source": [
    "## Preprocessing wykonywany jest w drugim notebooku wraz z tworzeniem i wyborem modelów."
   ]
  }
 ],
 "metadata": {
  "kernelspec": {
   "display_name": "Python 3",
   "language": "python",
   "name": "python3"
  },
  "language_info": {
   "codemirror_mode": {
    "name": "ipython",
    "version": 3
   },
   "file_extension": ".py",
   "mimetype": "text/x-python",
   "name": "python",
   "nbconvert_exporter": "python",
   "pygments_lexer": "ipython3",
   "version": "3.8.5"
  }
 },
 "nbformat": 4,
 "nbformat_minor": 4
}
