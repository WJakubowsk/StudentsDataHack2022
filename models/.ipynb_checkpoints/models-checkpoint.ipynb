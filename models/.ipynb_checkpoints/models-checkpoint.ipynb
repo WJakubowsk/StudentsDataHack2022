{
 "cells": [
  {
   "cell_type": "markdown",
   "metadata": {
    "id": "4ECM1IXVyqiP"
   },
   "source": [
    "# Models"
   ]
  },
  {
   "cell_type": "code",
   "execution_count": 115,
   "metadata": {
    "id": "3qWakxqkDHnZ"
   },
   "outputs": [],
   "source": [
    "import warnings\n",
    "import sklearn\n",
    "import pandas as pd\n",
    "\n",
    "def get_feature_names(column_transformer):\n",
    "    \"\"\"Get feature names from all transformers.\n",
    "    Returns\n",
    "    -------\n",
    "    feature_names : list of strings\n",
    "        Names of the features produced by transform.\n",
    "    \"\"\"\n",
    "    # Remove the internal helper function\n",
    "    #check_is_fitted(column_transformer)\n",
    "    \n",
    "    # Turn loopkup into function for better handling with pipeline later\n",
    "    def get_names(trans):\n",
    "        # >> Original get_feature_names() method\n",
    "        if trans == 'drop' or (\n",
    "                hasattr(column, '__len__') and not len(column)):\n",
    "            return []\n",
    "        if trans == 'passthrough':\n",
    "            if hasattr(column_transformer, '_df_columns'):\n",
    "                if ((not isinstance(column, slice))\n",
    "                        and all(isinstance(col, str) for col in column)):\n",
    "                    return column\n",
    "                else:\n",
    "                    return column_transformer._df_columns[column]\n",
    "            else:\n",
    "                indices = np.arange(column_transformer._n_features)\n",
    "                return ['x%d' % i for i in indices[column]]\n",
    "        if not hasattr(trans, 'get_feature_names'):\n",
    "        # >>> Change: Return input column names if no method avaiable\n",
    "            # Turn error into a warning\n",
    "            warnings.warn(\"Transformer %s (type %s) does not \"\n",
    "                                 \"provide get_feature_names. \"\n",
    "                                 \"Will return input column names if available\"\n",
    "                                 % (str(name), type(trans).__name__))\n",
    "            # For transformers without a get_features_names method, use the input\n",
    "            # names to the column transformer\n",
    "            if column is None:\n",
    "                return []\n",
    "            else:\n",
    "                return [name + \"__\" + f for f in column]\n",
    "\n",
    "        return [name + \"__\" + f for f in trans.get_feature_names()]\n",
    "    \n",
    "    ### Start of processing\n",
    "    feature_names = []\n",
    "    \n",
    "    # Allow transformers to be pipelines. Pipeline steps are named differently, so preprocessing is needed\n",
    "    if type(column_transformer) == sklearn.pipeline.Pipeline:\n",
    "        l_transformers = [(name, trans, None, None) for step, name, trans in column_transformer._iter()]\n",
    "    else:\n",
    "        # For column transformers, follow the original method\n",
    "        l_transformers = list(column_transformer._iter(fitted=True))\n",
    "    \n",
    "    \n",
    "    for name, trans, column, _ in l_transformers: \n",
    "        if type(trans) == sklearn.pipeline.Pipeline:\n",
    "            # Recursive call on pipeline\n",
    "            _names = get_feature_names(trans)\n",
    "            # if pipeline has no transformer that returns names\n",
    "            if len(_names)==0:\n",
    "                _names = [name + \"__\" + f for f in column]\n",
    "            feature_names.extend(_names)\n",
    "        else:\n",
    "            feature_names.extend(get_names(trans))\n",
    "    \n",
    "    return feature_names"
   ]
  },
  {
   "cell_type": "code",
   "execution_count": 134,
   "metadata": {
    "id": "Gx0nepg6CCbE"
   },
   "outputs": [],
   "source": [
    "import joblib\n",
    "import copy\n",
    "import numpy as np\n",
    "import pandas as pd\n",
    "import warnings\n",
    "\n",
    "warnings.filterwarnings(\"ignore\")\n",
    "\n",
    "from sklearn.preprocessing import OneHotEncoder, OrdinalEncoder\n",
    "from sklearn.impute import KNNImputer, SimpleImputer\n",
    "from sklearn.experimental import enable_iterative_imputer\n",
    "from sklearn.impute import IterativeImputer\n",
    "from sklearn.compose import ColumnTransformer\n",
    "from sklearn.preprocessing import MultiLabelBinarizer\n",
    "\n",
    "\n",
    "def transform(text):\n",
    "    lex = text.split(',')\n",
    "    out = []\n",
    "    for item in lex:\n",
    "        for el in ['{', '}', '\"']:\n",
    "            item = item.replace(el, '')\n",
    "        for el in ['/',':',' ','-','.','&',')','(','\\'']:\n",
    "            item = item.replace(el,'_')\n",
    "        item = item.lower()\n",
    "        item = item.replace('matress','mattress')\n",
    "        out.append(item)\n",
    "    return out\n",
    "\n",
    "amenitiesColumns = None\n",
    "\n",
    "def extract_amenities(data, test_data = False):\n",
    "    data_copy = data.copy()\n",
    "    data_copy['amenities'] = data_copy['amenities'].apply(lambda item: transform(item))\n",
    "    mlb = MultiLabelBinarizer(sparse_output=True)\n",
    "    data_copy = data_copy.join(\n",
    "        pd.DataFrame.sparse.from_spmatrix(\n",
    "            mlb.fit_transform(data_copy['amenities']),\n",
    "            index=data.index,\n",
    "            columns=mlb.classes_))\n",
    "    \n",
    "    if not test_data:\n",
    "        global amenitiesColumns\n",
    "        amenitiesColumns = list(mlb.classes_)\n",
    "        amenitiesColumns.remove('')\n",
    "        tmp = copy.deepcopy(amenitiesColumns)\n",
    "    else:\n",
    "        tmp = list(mlb.classes_)\n",
    "        tmp.remove('')\n",
    "        \n",
    "    data_copy.drop(['amenities', ''], axis = 1, inplace = True)\n",
    "    return data_copy, tmp\n",
    "\n",
    "\n",
    "def preprocess_data(data, test_data = False):\n",
    "\n",
    "    col_to_drop = ['id', 'name', 'zipcode', 'thumbnail_url', 'description', 'neighbourhood']\n",
    "    data.drop(col_to_drop, axis = 1, inplace = True)\n",
    "\n",
    "    data['host_response_rate'] = data['host_response_rate'].str.rstrip('%').astype('float')\n",
    "\n",
    "    data.host_has_profile_pic = np.where(data.host_has_profile_pic.isnull(), 'f', data.host_has_profile_pic)\n",
    "    data.host_identity_verified = np.where(data.host_identity_verified.isnull(), 'f', data.host_identity_verified)\n",
    "    data['first_review'] = pd.to_datetime(data['first_review'], format='%Y-%m-%d')\n",
    "    data['last_review'] = pd.to_datetime(data['last_review'], format='%Y-%m-%d')\n",
    "    data['host_since'] = pd.to_datetime(data['host_since'], format='%Y-%m-%d')\n",
    "\n",
    "    data['first_review'] = data.first_review.fillna(pd.to_datetime('2016-07-01')) # wartości najczęściej występujące\n",
    "    data['last_review'] = data.last_review.fillna(pd.to_datetime('2017-09-01'))  # wartości najczęściej występujące\n",
    "    data['host_since'] = data.host_since.fillna(pd.to_datetime('2015-07-01')) # wartości najczęściej występujące\n",
    "\n",
    "    data['first_review_year'] = data['first_review'].dt.year\n",
    "    data['first_review_month'] = data['first_review'].dt.month\n",
    "    data.drop('first_review', axis = 1, inplace = True)\n",
    "\n",
    "    data['last_review_year'] = data['last_review'].dt.year\n",
    "    data['last_review_month'] = data['last_review'].dt.month\n",
    "    data.drop('last_review', axis = 1, inplace = True)\n",
    "\n",
    "    data['host_since_year'] = data['host_since'].dt.year\n",
    "    data['host_since_month'] = data['host_since'].dt.month\n",
    "    data.drop('host_since', axis = 1, inplace = True)\n",
    "    \n",
    "    data, pom = extract_amenities(data, test_data)\n",
    "\n",
    "    global amenitiesColumns\n",
    "    \n",
    "    if test_data:\n",
    "        for col in pom:\n",
    "            if col not in amenitiesColumns:\n",
    "                data.drop(col, axis = 1, inplace = True)\n",
    "        \n",
    "        for col in amenitiesColumns:\n",
    "            if col not in data.columns:\n",
    "                data[col] = 0\n",
    "\n",
    "    data = data.reindex(sorted(data.columns), axis=1)     \n",
    "    print(list(data.columns))\n",
    "    if not test_data:\n",
    "        one_hot_cols = ['room_type', 'bed_type', 'city', 'property_type']\n",
    "        knn_cols = ['bathrooms', 'beds', 'bedrooms', 'host_response_rate']\n",
    "        ord_enc_cols = ['cancellation_policy', 'cleaning_fee', 'host_has_profile_pic', \"host_identity_verified\", 'instant_bookable']\n",
    "\n",
    "\n",
    "        ord_enc = OrdinalEncoder(categories = [['super_strict_60', 'super_strict_30', 'strict', 'moderate', 'flexible'], \n",
    "                                            [False, True], ['f', 't'], ['f', 't'], ['f', 't']])\n",
    "\n",
    "        pipeline = ColumnTransformer([\n",
    "            (\"knn\", KNNImputer(), knn_cols),\n",
    "            (\"iter\", IterativeImputer(), ['review_scores_rating']),\n",
    "            ('ord_enc', ord_enc, ord_enc_cols),\n",
    "            (\"one_hot\", OneHotEncoder(), one_hot_cols)\n",
    "        ], remainder = 'passthrough')\n",
    "\n",
    "        data = pipeline.fit_transform(data)\n",
    "        \n",
    "        joblib.dump(pipeline, 'custom_column_transformer.joblib')\n",
    "    else:\n",
    "        pipeline = joblib.load('custom_column_transformer.joblib')\n",
    "        data = pipeline.transform(data)\n",
    "    \n",
    "    print(get_feature_names(pipeline))\n",
    "    \n",
    "    return data"
   ]
  },
  {
   "cell_type": "code",
   "execution_count": 126,
   "metadata": {
    "id": "UYBpTALVyqiV"
   },
   "outputs": [],
   "source": [
    "# from preprocessing import preprocess_data\n",
    "from sklearn.model_selection import train_test_split\n",
    "import pandas as pd\n",
    "import numpy as np"
   ]
  },
  {
   "cell_type": "code",
   "execution_count": 135,
   "metadata": {
    "id": "6rxOTAv3yqiX"
   },
   "outputs": [],
   "source": [
    "df = pd.read_csv(\"train.csv\")\n",
    "df = df[df.log_price != 0]"
   ]
  },
  {
   "cell_type": "code",
   "execution_count": 136,
   "metadata": {
    "id": "AOD-1NfiyqiY"
   },
   "outputs": [],
   "source": [
    "train, val = train_test_split(df, test_size = .2, random_state = 420)\n",
    "\n",
    "y_train = train['log_price']\n",
    "X_train = train[train.columns.drop('log_price')]\n",
    "y_val = val['log_price']\n",
    "X_val = val[val.columns.drop('log_price')]"
   ]
  },
  {
   "cell_type": "code",
   "execution_count": 137,
   "metadata": {
    "colab": {
     "base_uri": "https://localhost:8080/"
    },
    "id": "n4NbiaIxyqiZ",
    "outputId": "09268fa6-7bed-42b2-adfe-71d5dae1995c"
   },
   "outputs": [
    {
     "name": "stdout",
     "output_type": "stream",
     "text": [
      "['24_hour_check_in', '_smooth_pathway_to_front_door', 'accessible_height_bed', 'accessible_height_toilet', 'accommodates', 'air_conditioning', 'air_purifier', 'baby_bath', 'baby_monitor', 'babysitter_recommendations', 'bathrooms', 'bathtub', 'bathtub_with_shower_chair', 'bbq_grill', 'beach_essentials', 'beachfront', 'bed_linens', 'bed_type', 'bedrooms', 'beds', 'breakfast', 'buzzer_wireless_intercom', 'cable_tv', 'cancellation_policy', 'carbon_monoxide_detector', 'cat_s_', 'changing_table', 'children’s_books_and_toys', 'children’s_dinnerware', 'city', 'cleaning_before_checkout', 'cleaning_fee', 'coffee_maker', 'cooking_basics', 'crib', 'disabled_parking_spot', 'dishes_and_silverware', 'dishwasher', 'dog_s_', 'doorman', 'doorman_entry', 'dryer', 'elevator', 'elevator_in_building', 'essentials', 'ethernet_connection', 'ev_charger', 'extra_pillows_and_blankets', 'family_kid_friendly', 'fire_extinguisher', 'fireplace_guards', 'firm_mattress', 'first_aid_kit', 'first_review_month', 'first_review_year', 'fixed_grab_bars_for_shower___toilet', 'flat', 'flat_smooth_pathway_to_front_door', 'free_parking_on_premises', 'free_parking_on_street', 'game_console', 'garden_or_backyard', 'grab_rails_for_shower_and_toilet', 'ground_floor_access', 'gym', 'hair_dryer', 'handheld_shower_head', 'hangers', 'heating', 'high_chair', 'host_greets_you', 'host_has_profile_pic', 'host_identity_verified', 'host_response_rate', 'host_since_month', 'host_since_year', 'hot_tub', 'hot_water', 'hot_water_kettle', 'indoor_fireplace', 'instant_bookable', 'internet', 'iron', 'keypad', 'kitchen', 'lake_access', 'laptop_friendly_workspace', 'last_review_month', 'last_review_year', 'latitude', 'lock_on_bedroom_door', 'lockbox', 'long_term_stays_allowed', 'longitude', 'luggage_dropoff_allowed', 'microwave', 'number_of_reviews', 'other', 'other_pet_s_', 'outlet_covers', 'oven', 'pack_’n_play_travel_crib', 'paid_parking_off_premises', 'path_to_entrance_lit_at_night', 'patio_or_balcony', 'pets_allowed', 'pets_live_on_this_property', 'pocket_wifi', 'pool', 'private_bathroom', 'private_entrance', 'private_living_room', 'property_type', 'refrigerator', 'review_scores_rating', 'roll_in_shower_with_chair', 'room_darkening_shades', 'room_type', 'safety_card', 'self_check_in', 'shampoo', 'single_level_home', 'ski_in_ski_out', 'smart_lock', 'smartlock', 'smoke_detector', 'smoking_allowed', 'stair_gates', 'step_free_access', 'stove', 'suitable_for_events', 'table_corner_guards', 'translation_missing__en_hosting_amenity_49', 'translation_missing__en_hosting_amenity_50', 'tv', 'washer', 'washer___dryer', 'waterfront', 'well_lit_path_to_entrance', 'wheelchair_accessible', 'wide_clearance_to_bed', 'wide_clearance_to_shower___toilet', 'wide_clearance_to_shower_and_toilet', 'wide_doorway', 'wide_entryway', 'wide_hallway_clearance', 'window_guards', 'wireless_internet']\n",
      "['knn__bathrooms', 'knn__beds', 'knn__bedrooms', 'knn__host_response_rate', 'iter__review_scores_rating', 'ord_enc__cancellation_policy', 'ord_enc__cleaning_fee', 'ord_enc__host_has_profile_pic', 'ord_enc__host_identity_verified', 'ord_enc__instant_bookable', 'one_hot__x0_Entire home/apt', 'one_hot__x0_Private room', 'one_hot__x0_Shared room', 'one_hot__x1_Airbed', 'one_hot__x1_Couch', 'one_hot__x1_Futon', 'one_hot__x1_Pull-out Sofa', 'one_hot__x1_Real Bed', 'one_hot__x2_Boston', 'one_hot__x2_Chicago', 'one_hot__x2_DC', 'one_hot__x2_LA', 'one_hot__x2_NYC', 'one_hot__x2_SF', 'one_hot__x3_Apartment', 'one_hot__x3_Bed & Breakfast', 'one_hot__x3_Boat', 'one_hot__x3_Boutique hotel', 'one_hot__x3_Bungalow', 'one_hot__x3_Cabin', 'one_hot__x3_Camper/RV', 'one_hot__x3_Casa particular', 'one_hot__x3_Castle', 'one_hot__x3_Cave', 'one_hot__x3_Chalet', 'one_hot__x3_Condominium', 'one_hot__x3_Dorm', 'one_hot__x3_Earth House', 'one_hot__x3_Guest suite', 'one_hot__x3_Guesthouse', 'one_hot__x3_Hostel', 'one_hot__x3_House', 'one_hot__x3_Hut', 'one_hot__x3_In-law', 'one_hot__x3_Island', 'one_hot__x3_Lighthouse', 'one_hot__x3_Loft', 'one_hot__x3_Other', 'one_hot__x3_Parking Space', 'one_hot__x3_Serviced apartment', 'one_hot__x3_Tent', 'one_hot__x3_Timeshare', 'one_hot__x3_Tipi', 'one_hot__x3_Townhouse', 'one_hot__x3_Train', 'one_hot__x3_Treehouse', 'one_hot__x3_Vacation home', 'one_hot__x3_Villa', 'one_hot__x3_Yurt', 'x0', 'x1', 'x2', 'x3', 'x4', 'x5', 'x6', 'x7', 'x8', 'x9', 'x11', 'x12', 'x13', 'x14', 'x15', 'x16', 'x20', 'x21', 'x22', 'x24', 'x25', 'x26', 'x27', 'x28', 'x30', 'x32', 'x33', 'x34', 'x35', 'x36', 'x37', 'x38', 'x39', 'x40', 'x41', 'x42', 'x43', 'x44', 'x45', 'x46', 'x47', 'x48', 'x49', 'x50', 'x51', 'x52', 'x53', 'x54', 'x55', 'x56', 'x57', 'x58', 'x59', 'x60', 'x61', 'x62', 'x63', 'x64', 'x65', 'x66', 'x67', 'x68', 'x69', 'x70', 'x74', 'x75', 'x76', 'x77', 'x78', 'x79', 'x81', 'x82', 'x83', 'x84', 'x85', 'x86', 'x87', 'x88', 'x89', 'x90', 'x91', 'x92', 'x93', 'x94', 'x95', 'x96', 'x97', 'x98', 'x99', 'x100', 'x101', 'x102', 'x103', 'x104', 'x105', 'x106', 'x107', 'x108', 'x109', 'x110', 'x111', 'x113', 'x115', 'x116', 'x118', 'x119', 'x120', 'x121', 'x122', 'x123', 'x124', 'x125', 'x126', 'x127', 'x128', 'x129', 'x130', 'x131', 'x132', 'x133', 'x134', 'x135', 'x136', 'x137', 'x138', 'x139', 'x140', 'x141', 'x142', 'x143', 'x144', 'x145', 'x146', 'x147']\n",
      "['24_hour_check_in', '_smooth_pathway_to_front_door', 'accessible_height_bed', 'accessible_height_toilet', 'accommodates', 'air_conditioning', 'air_purifier', 'baby_bath', 'baby_monitor', 'babysitter_recommendations', 'bathrooms', 'bathtub', 'bathtub_with_shower_chair', 'bbq_grill', 'beach_essentials', 'beachfront', 'bed_linens', 'bed_type', 'bedrooms', 'beds', 'breakfast', 'buzzer_wireless_intercom', 'cable_tv', 'cancellation_policy', 'carbon_monoxide_detector', 'cat_s_', 'changing_table', 'children’s_books_and_toys', 'children’s_dinnerware', 'city', 'cleaning_before_checkout', 'cleaning_fee', 'coffee_maker', 'cooking_basics', 'crib', 'disabled_parking_spot', 'dishes_and_silverware', 'dishwasher', 'dog_s_', 'doorman', 'doorman_entry', 'dryer', 'elevator', 'elevator_in_building', 'essentials', 'ethernet_connection', 'ev_charger', 'extra_pillows_and_blankets', 'family_kid_friendly', 'fire_extinguisher', 'fireplace_guards', 'firm_mattress', 'first_aid_kit', 'first_review_month', 'first_review_year', 'fixed_grab_bars_for_shower___toilet', 'flat', 'flat_smooth_pathway_to_front_door', 'free_parking_on_premises', 'free_parking_on_street', 'game_console', 'garden_or_backyard', 'grab_rails_for_shower_and_toilet', 'ground_floor_access', 'gym', 'hair_dryer', 'handheld_shower_head', 'hangers', 'heating', 'high_chair', 'host_greets_you', 'host_has_profile_pic', 'host_identity_verified', 'host_response_rate', 'host_since_month', 'host_since_year', 'hot_tub', 'hot_water', 'hot_water_kettle', 'indoor_fireplace', 'instant_bookable', 'internet', 'iron', 'keypad', 'kitchen', 'lake_access', 'laptop_friendly_workspace', 'last_review_month', 'last_review_year', 'latitude', 'lock_on_bedroom_door', 'lockbox', 'long_term_stays_allowed', 'longitude', 'luggage_dropoff_allowed', 'microwave', 'number_of_reviews', 'other', 'other_pet_s_', 'outlet_covers', 'oven', 'pack_’n_play_travel_crib', 'paid_parking_off_premises', 'path_to_entrance_lit_at_night', 'patio_or_balcony', 'pets_allowed', 'pets_live_on_this_property', 'pocket_wifi', 'pool', 'private_bathroom', 'private_entrance', 'private_living_room', 'property_type', 'refrigerator', 'review_scores_rating', 'roll_in_shower_with_chair', 'room_darkening_shades', 'room_type', 'safety_card', 'self_check_in', 'shampoo', 'single_level_home', 'ski_in_ski_out', 'smart_lock', 'smartlock', 'smoke_detector', 'smoking_allowed', 'stair_gates', 'step_free_access', 'stove', 'suitable_for_events', 'table_corner_guards', 'translation_missing__en_hosting_amenity_49', 'translation_missing__en_hosting_amenity_50', 'tv', 'washer', 'washer___dryer', 'waterfront', 'well_lit_path_to_entrance', 'wheelchair_accessible', 'wide_clearance_to_bed', 'wide_clearance_to_shower___toilet', 'wide_clearance_to_shower_and_toilet', 'wide_doorway', 'wide_entryway', 'wide_hallway_clearance', 'window_guards', 'wireless_internet']\n",
      "['knn__bathrooms', 'knn__beds', 'knn__bedrooms', 'knn__host_response_rate', 'iter__review_scores_rating', 'ord_enc__cancellation_policy', 'ord_enc__cleaning_fee', 'ord_enc__host_has_profile_pic', 'ord_enc__host_identity_verified', 'ord_enc__instant_bookable', 'one_hot__x0_Entire home/apt', 'one_hot__x0_Private room', 'one_hot__x0_Shared room', 'one_hot__x1_Airbed', 'one_hot__x1_Couch', 'one_hot__x1_Futon', 'one_hot__x1_Pull-out Sofa', 'one_hot__x1_Real Bed', 'one_hot__x2_Boston', 'one_hot__x2_Chicago', 'one_hot__x2_DC', 'one_hot__x2_LA', 'one_hot__x2_NYC', 'one_hot__x2_SF', 'one_hot__x3_Apartment', 'one_hot__x3_Bed & Breakfast', 'one_hot__x3_Boat', 'one_hot__x3_Boutique hotel', 'one_hot__x3_Bungalow', 'one_hot__x3_Cabin', 'one_hot__x3_Camper/RV', 'one_hot__x3_Casa particular', 'one_hot__x3_Castle', 'one_hot__x3_Cave', 'one_hot__x3_Chalet', 'one_hot__x3_Condominium', 'one_hot__x3_Dorm', 'one_hot__x3_Earth House', 'one_hot__x3_Guest suite', 'one_hot__x3_Guesthouse', 'one_hot__x3_Hostel', 'one_hot__x3_House', 'one_hot__x3_Hut', 'one_hot__x3_In-law', 'one_hot__x3_Island', 'one_hot__x3_Lighthouse', 'one_hot__x3_Loft', 'one_hot__x3_Other', 'one_hot__x3_Parking Space', 'one_hot__x3_Serviced apartment', 'one_hot__x3_Tent', 'one_hot__x3_Timeshare', 'one_hot__x3_Tipi', 'one_hot__x3_Townhouse', 'one_hot__x3_Train', 'one_hot__x3_Treehouse', 'one_hot__x3_Vacation home', 'one_hot__x3_Villa', 'one_hot__x3_Yurt', 'x0', 'x1', 'x2', 'x3', 'x4', 'x5', 'x6', 'x7', 'x8', 'x9', 'x11', 'x12', 'x13', 'x14', 'x15', 'x16', 'x20', 'x21', 'x22', 'x24', 'x25', 'x26', 'x27', 'x28', 'x30', 'x32', 'x33', 'x34', 'x35', 'x36', 'x37', 'x38', 'x39', 'x40', 'x41', 'x42', 'x43', 'x44', 'x45', 'x46', 'x47', 'x48', 'x49', 'x50', 'x51', 'x52', 'x53', 'x54', 'x55', 'x56', 'x57', 'x58', 'x59', 'x60', 'x61', 'x62', 'x63', 'x64', 'x65', 'x66', 'x67', 'x68', 'x69', 'x70', 'x74', 'x75', 'x76', 'x77', 'x78', 'x79', 'x81', 'x82', 'x83', 'x84', 'x85', 'x86', 'x87', 'x88', 'x89', 'x90', 'x91', 'x92', 'x93', 'x94', 'x95', 'x96', 'x97', 'x98', 'x99', 'x100', 'x101', 'x102', 'x103', 'x104', 'x105', 'x106', 'x107', 'x108', 'x109', 'x110', 'x111', 'x113', 'x115', 'x116', 'x118', 'x119', 'x120', 'x121', 'x122', 'x123', 'x124', 'x125', 'x126', 'x127', 'x128', 'x129', 'x130', 'x131', 'x132', 'x133', 'x134', 'x135', 'x136', 'x137', 'x138', 'x139', 'x140', 'x141', 'x142', 'x143', 'x144', 'x145', 'x146', 'x147']\n"
     ]
    }
   ],
   "source": [
    "X_train = preprocess_data(X_train)\n",
    "X_val = preprocess_data(X_val, test_data = True)"
   ]
  },
  {
   "cell_type": "code",
   "execution_count": 138,
   "metadata": {
    "id": "r2N3Csgf31zu"
   },
   "outputs": [],
   "source": [
    "from sklearn.ensemble import RandomForestRegressor\n",
    "from sklearn.metrics import mean_absolute_error, r2_score, mean_squared_error"
   ]
  },
  {
   "cell_type": "code",
   "execution_count": 139,
   "metadata": {
    "colab": {
     "base_uri": "https://localhost:8080/"
    },
    "id": "6aOYeLF85F-J",
    "outputId": "9dab5ecc-cd6f-4a14-81d3-e4e1e89cf2ec"
   },
   "outputs": [
    {
     "data": {
      "text/plain": [
       "0.27661721908316805"
      ]
     },
     "execution_count": 139,
     "metadata": {},
     "output_type": "execute_result"
    }
   ],
   "source": [
    "rf = RandomForestRegressor()\n",
    "rf.fit(X_train, y_train)\n",
    "pred = rf.predict(X_val)\n",
    "mean_absolute_error(y_val, pred)"
   ]
  },
  {
   "cell_type": "code",
   "execution_count": 140,
   "metadata": {
    "id": "SpxEs3As5ydN"
   },
   "outputs": [],
   "source": [
    "from catboost import CatBoostRegressor"
   ]
  },
  {
   "cell_type": "code",
   "execution_count": null,
   "metadata": {
    "id": "DBApzxij68Q6"
   },
   "outputs": [],
   "source": [
    "cb = CatBoostRegressor()\n",
    "cb.fit(X_train, y_train)\n",
    "pred = cb.predict(X_val)"
   ]
  },
  {
   "cell_type": "code",
   "execution_count": 143,
   "metadata": {
    "colab": {
     "base_uri": "https://localhost:8080/"
    },
    "id": "ygEShvFE7tMx",
    "outputId": "724d5e76-a613-47f5-c899-cc24ee19aae3"
   },
   "outputs": [
    {
     "name": "stdout",
     "output_type": "stream",
     "text": [
      "mae:0.2668227971503438\n",
      "r2:0.7306505364751046\n"
     ]
    }
   ],
   "source": [
    "print(f\"mae:{mean_absolute_error(y_val, pred)}\")\n",
    "print(f\"r2:{r2_score(y_val, pred)}\")"
   ]
  },
  {
   "cell_type": "code",
   "execution_count": 145,
   "metadata": {
    "colab": {
     "base_uri": "https://localhost:8080/"
    },
    "id": "4oSswi4U9v3Z",
    "outputId": "a5693c83-b7af-4ab8-9185-c1be78d0cc56"
   },
   "outputs": [
    {
     "name": "stdout",
     "output_type": "stream",
     "text": [
      "193\n",
      "['knn__bathrooms', 'knn__beds', 'knn__bedrooms', 'knn__host_response_rate', 'iter__review_scores_rating', 'ord_enc__cancellation_policy', 'ord_enc__cleaning_fee', 'ord_enc__host_has_profile_pic', 'ord_enc__host_identity_verified', 'ord_enc__instant_bookable', 'one_hot__x0_Entire home/apt', 'one_hot__x0_Private room', 'one_hot__x0_Shared room', 'one_hot__x1_Airbed', 'one_hot__x1_Couch', 'one_hot__x1_Futon', 'one_hot__x1_Pull-out Sofa', 'one_hot__x1_Real Bed', 'one_hot__x2_Boston', 'one_hot__x2_Chicago', 'one_hot__x2_DC', 'one_hot__x2_LA', 'one_hot__x2_NYC', 'one_hot__x2_SF', 'one_hot__x3_Apartment', 'one_hot__x3_Bed & Breakfast', 'one_hot__x3_Boat', 'one_hot__x3_Boutique hotel', 'one_hot__x3_Bungalow', 'one_hot__x3_Cabin', 'one_hot__x3_Camper/RV', 'one_hot__x3_Casa particular', 'one_hot__x3_Castle', 'one_hot__x3_Cave', 'one_hot__x3_Chalet', 'one_hot__x3_Condominium', 'one_hot__x3_Dorm', 'one_hot__x3_Earth House', 'one_hot__x3_Guest suite', 'one_hot__x3_Guesthouse', 'one_hot__x3_Hostel', 'one_hot__x3_House', 'one_hot__x3_Hut', 'one_hot__x3_In-law', 'one_hot__x3_Island', 'one_hot__x3_Lighthouse', 'one_hot__x3_Loft', 'one_hot__x3_Other', 'one_hot__x3_Parking Space', 'one_hot__x3_Serviced apartment', 'one_hot__x3_Tent', 'one_hot__x3_Timeshare', 'one_hot__x3_Tipi', 'one_hot__x3_Townhouse', 'one_hot__x3_Train', 'one_hot__x3_Treehouse', 'one_hot__x3_Vacation home', 'one_hot__x3_Villa', 'one_hot__x3_Yurt', '24_hour_check_in', '_smooth_pathway_to_front_door', 'accessible_height_bed', 'accessible_height_toilet', 'accommodates', 'air_conditioning', 'air_purifier', 'baby_bath', 'baby_monitor', 'babysitter_recommendations', 'bathtub', 'bathtub_with_shower_chair', 'bbq_grill', 'beach_essentials', 'beachfront', 'bed_linens', 'breakfast', 'buzzer_wireless_intercom', 'cable_tv', 'carbon_monoxide_detector', 'cat_s_', 'changing_table', 'children’s_books_and_toys', 'children’s_dinnerware', 'cleaning_before_checkout', 'coffee_maker', 'cooking_basics', 'crib', 'disabled_parking_spot', 'dishes_and_silverware', 'dishwasher', 'dog_s_', 'doorman', 'doorman_entry', 'dryer', 'elevator', 'elevator_in_building', 'essentials', 'ethernet_connection', 'ev_charger', 'extra_pillows_and_blankets', 'family_kid_friendly', 'fire_extinguisher', 'fireplace_guards', 'firm_mattress', 'first_aid_kit', 'first_review_month', 'first_review_year', 'fixed_grab_bars_for_shower___toilet', 'flat', 'flat_smooth_pathway_to_front_door', 'free_parking_on_premises', 'free_parking_on_street', 'game_console', 'garden_or_backyard', 'grab_rails_for_shower_and_toilet', 'ground_floor_access', 'gym', 'hair_dryer', 'handheld_shower_head', 'hangers', 'heating', 'high_chair', 'host_greets_you', 'host_since_month', 'host_since_year', 'hot_tub', 'hot_water', 'hot_water_kettle', 'indoor_fireplace', 'internet', 'iron', 'keypad', 'kitchen', 'lake_access', 'laptop_friendly_workspace', 'last_review_month', 'last_review_year', 'latitude', 'lock_on_bedroom_door', 'lockbox', 'long_term_stays_allowed', 'longitude', 'luggage_dropoff_allowed', 'microwave', 'number_of_reviews', 'other', 'other_pet_s_', 'outlet_covers', 'oven', 'pack_’n_play_travel_crib', 'paid_parking_off_premises', 'path_to_entrance_lit_at_night', 'patio_or_balcony', 'pets_allowed', 'pets_live_on_this_property', 'pocket_wifi', 'pool', 'private_bathroom', 'private_entrance', 'private_living_room', 'refrigerator', 'roll_in_shower_with_chair', 'room_darkening_shades', 'safety_card', 'self_check_in', 'shampoo', 'single_level_home', 'ski_in_ski_out', 'smart_lock', 'smartlock', 'smoke_detector', 'smoking_allowed', 'stair_gates', 'step_free_access', 'stove', 'suitable_for_events', 'table_corner_guards', 'translation_missing__en_hosting_amenity_49', 'translation_missing__en_hosting_amenity_50', 'tv', 'washer', 'washer___dryer', 'waterfront', 'well_lit_path_to_entrance', 'wheelchair_accessible', 'wide_clearance_to_bed', 'wide_clearance_to_shower___toilet', 'wide_clearance_to_shower_and_toilet', 'wide_doorway', 'wide_entryway', 'wide_hallway_clearance', 'window_guards', 'wireless_internet']\n"
     ]
    }
   ],
   "source": [
    "a = ['24_hour_check_in', '_smooth_pathway_to_front_door', 'accessible_height_bed', 'accessible_height_toilet', 'accommodates', 'air_conditioning', 'air_purifier', 'baby_bath', 'baby_monitor', 'babysitter_recommendations', 'bathrooms', 'bathtub', 'bathtub_with_shower_chair', 'bbq_grill', 'beach_essentials', 'beachfront', 'bed_linens', 'bed_type', 'bedrooms', 'beds', 'breakfast', 'buzzer_wireless_intercom', 'cable_tv', 'cancellation_policy', 'carbon_monoxide_detector', 'cat_s_', 'changing_table', 'children’s_books_and_toys', 'children’s_dinnerware', 'city', 'cleaning_before_checkout', 'cleaning_fee', 'coffee_maker', 'cooking_basics', 'crib', 'disabled_parking_spot', 'dishes_and_silverware', 'dishwasher', 'dog_s_', 'doorman', 'doorman_entry', 'dryer', 'elevator', 'elevator_in_building', 'essentials', 'ethernet_connection', 'ev_charger', 'extra_pillows_and_blankets', 'family_kid_friendly', 'fire_extinguisher', 'fireplace_guards', 'firm_mattress', 'first_aid_kit', 'first_review_month', 'first_review_year', 'fixed_grab_bars_for_shower___toilet', 'flat', 'flat_smooth_pathway_to_front_door', 'free_parking_on_premises', 'free_parking_on_street', 'game_console', 'garden_or_backyard', 'grab_rails_for_shower_and_toilet', 'ground_floor_access', 'gym', 'hair_dryer', 'handheld_shower_head', 'hangers', 'heating', 'high_chair', 'host_greets_you', 'host_has_profile_pic', 'host_identity_verified', 'host_response_rate', 'host_since_month', 'host_since_year', 'hot_tub', 'hot_water', 'hot_water_kettle', 'indoor_fireplace', 'instant_bookable', 'internet', 'iron', 'keypad', 'kitchen', 'lake_access', 'laptop_friendly_workspace', 'last_review_month', 'last_review_year', 'latitude', 'lock_on_bedroom_door', 'lockbox', 'long_term_stays_allowed', 'longitude', 'luggage_dropoff_allowed', 'microwave', 'number_of_reviews', 'other', 'other_pet_s_', 'outlet_covers', 'oven', 'pack_’n_play_travel_crib', 'paid_parking_off_premises', 'path_to_entrance_lit_at_night', 'patio_or_balcony', 'pets_allowed', 'pets_live_on_this_property', 'pocket_wifi', 'pool', 'private_bathroom', 'private_entrance', 'private_living_room', 'property_type', 'refrigerator', 'review_scores_rating', 'roll_in_shower_with_chair', 'room_darkening_shades', 'room_type', 'safety_card', 'self_check_in', 'shampoo', 'single_level_home', 'ski_in_ski_out', 'smart_lock', 'smartlock', 'smoke_detector', 'smoking_allowed', 'stair_gates', 'step_free_access', 'stove', 'suitable_for_events', 'table_corner_guards', 'translation_missing__en_hosting_amenity_49', 'translation_missing__en_hosting_amenity_50', 'tv', 'washer', 'washer___dryer', 'waterfront', 'well_lit_path_to_entrance', 'wheelchair_accessible', 'wide_clearance_to_bed', 'wide_clearance_to_shower___toilet', 'wide_clearance_to_shower_and_toilet', 'wide_doorway', 'wide_entryway', 'wide_hallway_clearance', 'window_guards', 'wireless_internet']\n",
    "b = ['knn__bathrooms', 'knn__beds', 'knn__bedrooms', 'knn__host_response_rate', 'iter__review_scores_rating', 'ord_enc__cancellation_policy', 'ord_enc__cleaning_fee', 'ord_enc__host_has_profile_pic', 'ord_enc__host_identity_verified', 'ord_enc__instant_bookable', 'one_hot__x0_Entire home/apt', 'one_hot__x0_Private room', 'one_hot__x0_Shared room', 'one_hot__x1_Airbed', 'one_hot__x1_Couch', 'one_hot__x1_Futon', 'one_hot__x1_Pull-out Sofa', 'one_hot__x1_Real Bed', 'one_hot__x2_Boston', 'one_hot__x2_Chicago', 'one_hot__x2_DC', 'one_hot__x2_LA', 'one_hot__x2_NYC', 'one_hot__x2_SF', 'one_hot__x3_Apartment', 'one_hot__x3_Bed & Breakfast', 'one_hot__x3_Boat', 'one_hot__x3_Boutique hotel', 'one_hot__x3_Bungalow', 'one_hot__x3_Cabin', 'one_hot__x3_Camper/RV', 'one_hot__x3_Casa particular', 'one_hot__x3_Castle', 'one_hot__x3_Cave', 'one_hot__x3_Chalet', 'one_hot__x3_Condominium', 'one_hot__x3_Dorm', 'one_hot__x3_Earth House', 'one_hot__x3_Guest suite', 'one_hot__x3_Guesthouse', 'one_hot__x3_Hostel', 'one_hot__x3_House', 'one_hot__x3_Hut', 'one_hot__x3_In-law', 'one_hot__x3_Island', 'one_hot__x3_Lighthouse', 'one_hot__x3_Loft', 'one_hot__x3_Other', 'one_hot__x3_Parking Space', 'one_hot__x3_Serviced apartment', 'one_hot__x3_Tent', 'one_hot__x3_Timeshare', 'one_hot__x3_Tipi', 'one_hot__x3_Townhouse', 'one_hot__x3_Train', 'one_hot__x3_Treehouse', 'one_hot__x3_Vacation home', 'one_hot__x3_Villa', 'one_hot__x3_Yurt']\n",
    "a_new = []\n",
    "tmp = ['room_type', 'bed_type', 'city', 'property_type', 'bathrooms', 'beds', 'bedrooms', 'host_response_rate', 'review_scores_rating',\n",
    "         'cancellation_policy', 'cleaning_fee', 'host_has_profile_pic', \"host_identity_verified\", 'instant_bookable']\n",
    "for el in a:\n",
    "  if el not in tmp:\n",
    "    a_new.append(el)\n",
    "print(len(c))\n",
    "c = b + a_new\n",
    "print(c)"
   ]
  },
  {
   "cell_type": "code",
   "execution_count": 146,
   "metadata": {
    "id": "FY0pQSBVFxyz"
   },
   "outputs": [],
   "source": [
    "importances = pd.DataFrame(data={\n",
    "    'name': c,\n",
    "    'importance': d\n",
    "})"
   ]
  },
  {
   "cell_type": "code",
   "execution_count": 147,
   "metadata": {
    "colab": {
     "base_uri": "https://localhost:8080/",
     "height": 771
    },
    "id": "XVd-1wEEGQT3",
    "outputId": "cfd8acbc-241c-4145-bc8a-aa505c0c436f"
   },
   "outputs": [
    {
     "data": {
      "image/png": "[encoded data removed]",
      "text/plain": [
       "<Figure size 1440x1080 with 1 Axes>"
      ]
     },
     "metadata": {
      "needs_background": "light"
     },
     "output_type": "display_data"
    }
   ],
   "source": [
    "import matplotlib.pyplot as plt\n",
    "importances = importances.sort_values(by='importance', ascending=False)\n",
    "\n",
    "plt.figure(figsize=(20,15))\n",
    "plt.barh(y=importances['name'][:20], width=importances['importance'][:20], color='#087E8B')\n",
    "plt.title('Top 10 important features', size=20)\n",
    "plt.xticks(rotation='vertical')\n",
    "plt.show()"
   ]
  },
  {
   "cell_type": "code",
   "execution_count": 148,
   "metadata": {
    "colab": {
     "base_uri": "https://localhost:8080/",
     "height": 424
    },
    "id": "XjoBpUCHGQza",
    "outputId": "e81ac34d-41a7-4169-af87-5603aa7e8486"
   },
   "outputs": [
    {
     "data": {
      "text/html": [
       "\n",
       "  <div id=\"df-e93c7236-a7ca-4982-937b-4ec4d152006d\">\n",
       "    <div class=\"colab-df-container\">\n",
       "      <div>\n",
       "<style scoped>\n",
       "    .dataframe tbody tr th:only-of-type {\n",
       "        vertical-align: middle;\n",
       "    }\n",
       "\n",
       "    .dataframe tbody tr th {\n",
       "        vertical-align: top;\n",
       "    }\n",
       "\n",
       "    .dataframe thead th {\n",
       "        text-align: right;\n",
       "    }\n",
       "</style>\n",
       "<table border=\"1\" class=\"dataframe\">\n",
       "  <thead>\n",
       "    <tr style=\"text-align: right;\">\n",
       "      <th></th>\n",
       "      <th>name</th>\n",
       "      <th>importance</th>\n",
       "    </tr>\n",
       "  </thead>\n",
       "  <tbody>\n",
       "    <tr>\n",
       "      <th>10</th>\n",
       "      <td>one_hot__x0_Entire home/apt</td>\n",
       "      <td>24.016960</td>\n",
       "    </tr>\n",
       "    <tr>\n",
       "      <th>141</th>\n",
       "      <td>longitude</td>\n",
       "      <td>13.618816</td>\n",
       "    </tr>\n",
       "    <tr>\n",
       "      <th>137</th>\n",
       "      <td>latitude</td>\n",
       "      <td>12.131400</td>\n",
       "    </tr>\n",
       "    <tr>\n",
       "      <th>63</th>\n",
       "      <td>accommodates</td>\n",
       "      <td>6.520593</td>\n",
       "    </tr>\n",
       "    <tr>\n",
       "      <th>0</th>\n",
       "      <td>knn__bathrooms</td>\n",
       "      <td>5.812947</td>\n",
       "    </tr>\n",
       "    <tr>\n",
       "      <th>...</th>\n",
       "      <td>...</td>\n",
       "      <td>...</td>\n",
       "    </tr>\n",
       "    <tr>\n",
       "      <th>166</th>\n",
       "      <td>single_level_home</td>\n",
       "      <td>0.000000</td>\n",
       "    </tr>\n",
       "    <tr>\n",
       "      <th>28</th>\n",
       "      <td>one_hot__x3_Bungalow</td>\n",
       "      <td>0.000000</td>\n",
       "    </tr>\n",
       "    <tr>\n",
       "      <th>118</th>\n",
       "      <td>handheld_shower_head</td>\n",
       "      <td>0.000000</td>\n",
       "    </tr>\n",
       "    <tr>\n",
       "      <th>18</th>\n",
       "      <td>one_hot__x2_Boston</td>\n",
       "      <td>0.000000</td>\n",
       "    </tr>\n",
       "    <tr>\n",
       "      <th>115</th>\n",
       "      <td>ground_floor_access</td>\n",
       "      <td>0.000000</td>\n",
       "    </tr>\n",
       "  </tbody>\n",
       "</table>\n",
       "<p>193 rows × 2 columns</p>\n",
       "</div>\n",
       "      <button class=\"colab-df-convert\" onclick=\"convertToInteractive('df-e93c7236-a7ca-4982-937b-4ec4d152006d')\"\n",
       "              title=\"Convert this dataframe to an interactive table.\"\n",
       "              style=\"display:none;\">\n",
       "        \n",
       "  <svg xmlns=\"http://www.w3.org/2000/svg\" height=\"24px\"viewBox=\"0 0 24 24\"\n",
       "       width=\"24px\">\n",
       "    <path d=\"M0 0h24v24H0V0z\" fill=\"none\"/>\n",
       "    <path d=\"M18.56 5.44l.94 2.06.94-2.06 2.06-.94-2.06-.94-.94-2.06-.94 2.06-2.06.94zm-11 1L8.5 8.5l.94-2.06 2.06-.94-2.06-.94L8.5 2.5l-.94 2.06-2.06.94zm10 10l.94 2.06.94-2.06 2.06-.94-2.06-.94-.94-2.06-.94 2.06-2.06.94z\"/><path d=\"M17.41 7.96l-1.37-1.37c-.4-.4-.92-.59-1.43-.59-.52 0-1.04.2-1.43.59L10.3 9.45l-7.72 7.72c-.78.78-.78 2.05 0 2.83L4 21.41c.39.39.9.59 1.41.59.51 0 1.02-.2 1.41-.59l7.78-7.78 2.81-2.81c.8-.78.8-2.07 0-2.86zM5.41 20L4 18.59l7.72-7.72 1.47 1.35L5.41 20z\"/>\n",
       "  </svg>\n",
       "      </button>\n",
       "      \n",
       "  <style>\n",
       "    .colab-df-container {\n",
       "      display:flex;\n",
       "      flex-wrap:wrap;\n",
       "      gap: 12px;\n",
       "    }\n",
       "\n",
       "    .colab-df-convert {\n",
       "      background-color: #E8F0FE;\n",
       "      border: none;\n",
       "      border-radius: 50%;\n",
       "      cursor: pointer;\n",
       "      display: none;\n",
       "      fill: #1967D2;\n",
       "      height: 32px;\n",
       "      padding: 0 0 0 0;\n",
       "      width: 32px;\n",
       "    }\n",
       "\n",
       "    .colab-df-convert:hover {\n",
       "      background-color: #E2EBFA;\n",
       "      box-shadow: 0px 1px 2px rgba(60, 64, 67, 0.3), 0px 1px 3px 1px rgba(60, 64, 67, 0.15);\n",
       "      fill: #174EA6;\n",
       "    }\n",
       "\n",
       "    [theme=dark] .colab-df-convert {\n",
       "      background-color: #3B4455;\n",
       "      fill: #D2E3FC;\n",
       "    }\n",
       "\n",
       "    [theme=dark] .colab-df-convert:hover {\n",
       "      background-color: #434B5C;\n",
       "      box-shadow: 0px 1px 3px 1px rgba(0, 0, 0, 0.15);\n",
       "      filter: drop-shadow(0px 1px 2px rgba(0, 0, 0, 0.3));\n",
       "      fill: #FFFFFF;\n",
       "    }\n",
       "  </style>\n",
       "\n",
       "      <script>\n",
       "        const buttonEl =\n",
       "          document.querySelector('#df-e93c7236-a7ca-4982-937b-4ec4d152006d button.colab-df-convert');\n",
       "        buttonEl.style.display =\n",
       "          google.colab.kernel.accessAllowed ? 'block' : 'none';\n",
       "\n",
       "        async function convertToInteractive(key) {\n",
       "          const element = document.querySelector('#df-e93c7236-a7ca-4982-937b-4ec4d152006d');\n",
       "          const dataTable =\n",
       "            await google.colab.kernel.invokeFunction('convertToInteractive',\n",
       "                                                     [key], {});\n",
       "          if (!dataTable) return;\n",
       "\n",
       "          const docLinkHtml = 'Like what you see? Visit the ' +\n",
       "            '<a target=\"_blank\" href=https://colab.research.google.com/notebooks/data_table.ipynb>data table notebook</a>'\n",
       "            + ' to learn more about interactive tables.';\n",
       "          element.innerHTML = '';\n",
       "          dataTable['output_type'] = 'display_data';\n",
       "          await google.colab.output.renderOutput(dataTable, element);\n",
       "          const docLink = document.createElement('div');\n",
       "          docLink.innerHTML = docLinkHtml;\n",
       "          element.appendChild(docLink);\n",
       "        }\n",
       "      </script>\n",
       "    </div>\n",
       "  </div>\n",
       "  "
      ],
      "text/plain": [
       "                            name  importance\n",
       "10   one_hot__x0_Entire home/apt   24.016960\n",
       "141                    longitude   13.618816\n",
       "137                     latitude   12.131400\n",
       "63                  accommodates    6.520593\n",
       "0                 knn__bathrooms    5.812947\n",
       "..                           ...         ...\n",
       "166            single_level_home    0.000000\n",
       "28          one_hot__x3_Bungalow    0.000000\n",
       "118         handheld_shower_head    0.000000\n",
       "18            one_hot__x2_Boston    0.000000\n",
       "115          ground_floor_access    0.000000\n",
       "\n",
       "[193 rows x 2 columns]"
      ]
     },
     "execution_count": 148,
     "metadata": {},
     "output_type": "execute_result"
    }
   ],
   "source": [
    "importances"
   ]
  },
  {
   "cell_type": "code",
   "execution_count": null,
   "metadata": {
    "id": "YU0HRZ_rMMT5"
   },
   "outputs": [],
   "source": []
  }
 ],
 "metadata": {
  "colab": {
   "collapsed_sections": [],
   "name": "Models_Wiktor.ipynb",
   "provenance": []
  },
  "kernelspec": {
   "display_name": "Python 3",
   "language": "python",
   "name": "python3"
  },
  "language_info": {
   "codemirror_mode": {
    "name": "ipython",
    "version": 3
   },
   "file_extension": ".py",
   "mimetype": "text/x-python",
   "name": "python",
   "nbconvert_exporter": "python",
   "pygments_lexer": "ipython3",
   "version": "3.8.5"
  }
 },
 "nbformat": 4,
 "nbformat_minor": 1
}
